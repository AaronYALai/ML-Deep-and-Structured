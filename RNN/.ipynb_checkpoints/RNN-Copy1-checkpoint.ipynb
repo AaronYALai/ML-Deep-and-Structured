{
 "cells": [
  {
   "cell_type": "code",
   "execution_count": 3,
   "metadata": {
    "collapsed": false
   },
   "outputs": [
    {
     "name": "stdout",
     "output_type": "stream",
     "text": [
      "Data loaded, using 7.111934 seconds\n"
     ]
    }
   ],
   "source": [
    "#Bi-directional Long Short Term Memory (Momentum, NAG, RMSProp, Dropout)\n",
    "import theano as th\n",
    "import theano.tensor as T\n",
    "import numpy as np\n",
    "import time\n",
    "from theano.ifelse import ifelse\n",
    "from theano.tensor.shared_randomstreams import RandomStreams\n",
    "from collections import defaultdict\n",
    "\n",
    "start_time = time.clock()\n",
    "Data = np.load('prob_t.npz') #Output of DNN\n",
    "Data = Data[Data.files[0]]\n",
    "F = np.load('TrainID.npz')\n",
    "TrainID = F[F.files[0]][0]\n",
    "\n",
    "Label = {}\n",
    "Y = open('train.lab')\n",
    "for line in Y:\n",
    "    line = line.strip().split(',')\n",
    "    Label[line[0]] = line[1]\n",
    "Y.close()\n",
    "\n",
    "#The map from labels to integers(To compute y_hat) \n",
    "lab_index = dict([['aa', 0], ['ae', 1], ['ah', 2], ['ao', 3], ['aw', 4], ['ax', 5], ['ay', 6], ['b', 7], ['ch', 8], \n",
    "               ['cl', 9], ['d', 10], ['dh', 11], ['dx', 12], ['eh', 13], ['el', 14], ['en', 15], ['epi', 16], \n",
    "               ['er', 17], ['ey', 18], ['f', 19], ['g', 20], ['hh', 21], ['ih', 22], ['ix', 23], ['iy', 24], \n",
    "               ['jh', 25], ['k', 26], ['l', 27], ['m', 28], ['ng', 29], ['n', 30], ['ow', 31], ['oy', 32], ['p', 33], \n",
    "               ['r', 34], ['sh', 35], ['sil', 36], ['s', 37], ['th', 38], ['t', 39], ['uh', 40], ['uw', 41], ['vcl', 42],\n",
    "               ['v', 43], ['w', 44], ['y', 45], ['zh', 46], ['z', 47]])\n",
    "\n",
    "def y_hat(i):\n",
    "    \"\"\"give the np array of y_hat\"\"\"\n",
    "    l = np.zeros(48)\n",
    "    l[lab_index[Label[TrainID[i]]]] = 1\n",
    "    return l\n",
    "\n",
    "def make_vector_sequence(Data,TID,have_label=True):\n",
    "    \"\"\"Concatenate vectors into single sequence of an utterance\"\"\"\n",
    "    Dat = defaultdict(list); Y_hat = defaultdict(list)\n",
    "    Number = {}; n = 0; old = ''\n",
    "    for i in range(len(Data)):\n",
    "        ID = '_'.join(TID[i].split('_')[:2])\n",
    "        Dat[ID].append(Data[i])\n",
    "        if have_label:\n",
    "            Y_hat[ID].append(y_hat(i))\n",
    "        if ID != old:\n",
    "            Number[n] = ID\n",
    "            n += 1\n",
    "            old = ID\n",
    "    return Dat, Y_hat, Number\n",
    "\n",
    "def edit(r,h):\n",
    "    \"\"\"edit distance\"\"\"\n",
    "    r = r.split(); h = h.split()\n",
    "    d = np.zeros((len(r)+1)*(len(h)+1), dtype=np.uint8)\n",
    "    d = d.reshape((len(r)+1, len(h)+1))\n",
    "    for i in range(len(r)+1):\n",
    "        for j in range(len(h)+1):\n",
    "                if i == 0:\n",
    "                        d[0][j] = j\n",
    "                elif j == 0:\n",
    "                        d[i][0] = i\n",
    "\n",
    "    for i in range(1, len(r)+1):\n",
    "            for j in range(1, len(h)+1):\n",
    "                    if r[i-1] == h[j-1]:\n",
    "                        d[i][j] = d[i-1][j-1]\n",
    "                    else:\n",
    "                        substitution = d[i-1][j-1] + 1\n",
    "                        insertion    = d[i][j-1] + 1\n",
    "                        deletion     = d[i-1][j] + 1\n",
    "                        d[i][j] = min(substitution, insertion, deletion)\n",
    "    return d[len(r)][len(h)]\n",
    "\n",
    "TrainX, TrainY, Train_Num =  make_vector_sequence(Data,TrainID)\n",
    "Order = np.random.permutation(len(Train_Num))\n",
    "\n",
    "Mapp = open('48_39.map')\n",
    "mapp = Mapp.readlines()\n",
    "Mapp.close()\n",
    "\n",
    "def Map_label(n):\n",
    "    \"\"\"Return label an integer(0-47) corresponds to\"\"\"\n",
    "    for key,val in lab_index.items():\n",
    "        if val == n:\n",
    "            return key\n",
    "    print(\"Worng!\")\n",
    "\n",
    "mapping = {}\n",
    "for line in mapp:\n",
    "    line = line.strip().split('\\t')\n",
    "    mapping[line[0]] = line[1]\n",
    "\n",
    "M = open('48_idx_chr.map_b')\n",
    "mapp = M.readlines()\n",
    "M.close()\n",
    "\n",
    "Map = {}\n",
    "for line in mapp:\n",
    "    line = line.strip().split(' ')\n",
    "    word,_ = line[0].split('\\t')\n",
    "    Map[word] = line[-1]\n",
    "\n",
    "Yval_cache = {}\n",
    "def Valid_Y():\n",
    "    \"\"\"Return Y_hat of the validation set\"\"\"\n",
    "    try:\n",
    "        return Yval_cache[0]\n",
    "    except:\n",
    "        Val_Y = []\n",
    "        for i in range(3000,len(Train_Num)):\n",
    "            yval = ''; last = ''\n",
    "            for l in TrainY[Train_Num[Order[i]]]:\n",
    "                phone = Map[mapping[Map_label(np.argmax(l))]]\n",
    "                if last != phone:\n",
    "                    yval = yval + phone + ' '\n",
    "                last = phone\n",
    "            Val_Y.append(yval[:-1])\n",
    "\n",
    "        Yval_cache[0] = Val_Y\n",
    "        return Val_Y\n",
    "\n",
    "print(\"Data loaded, using %f seconds\"%(time.clock()-start_time))"
   ]
  },
  {
   "cell_type": "code",
   "execution_count": 31,
   "metadata": {
    "collapsed": false
   },
   "outputs": [],
   "source": [
    "def memo(f): \n",
    "    \"\"\"Memoization decorator, Used to accelerate the retrieval\"\"\"\n",
    "    cache = {}\n",
    "    def _f(*args):\n",
    "        try:\n",
    "            return cache[args]\n",
    "        except KeyError:\n",
    "            cache[args] = result = f(*args)\n",
    "            return result\n",
    "        except TypeError: #Some elements of args unhashable\n",
    "            return f(args)\n",
    "    _f.cache = cache\n",
    "    return _f"
   ]
  },
  {
   "cell_type": "code",
   "execution_count": 4,
   "metadata": {
    "collapsed": false
   },
   "outputs": [
    {
     "name": "stderr",
     "output_type": "stream",
     "text": [
      "INFO (theano.gof.compilelock): Refreshing lock /Users/aaronlai/.theano/compiledir_Darwin-15.0.0-x86_64-i386-64bit-i386-3.4.3-64/lock_dir/lock\n",
      "INFO:theano.gof.compilelock:Refreshing lock /Users/aaronlai/.theano/compiledir_Darwin-15.0.0-x86_64-i386-64bit-i386-3.4.3-64/lock_dir/lock\n",
      "INFO (theano.gof.compilelock): Refreshing lock /Users/aaronlai/.theano/compiledir_Darwin-15.0.0-x86_64-i386-64bit-i386-3.4.3-64/lock_dir/lock\n",
      "INFO:theano.gof.compilelock:Refreshing lock /Users/aaronlai/.theano/compiledir_Darwin-15.0.0-x86_64-i386-64bit-i386-3.4.3-64/lock_dir/lock\n"
     ]
    },
    {
     "name": "stdout",
     "output_type": "stream",
     "text": [
      "Model constructed, 134.997901 seconds. Start training...\n"
     ]
    }
   ],
   "source": [
    "#LSTM structure\n",
    "st = time.clock()\n",
    "bat = 1 #Batch size\n",
    "learing_rate = 0.0001\n",
    "srng = RandomStreams(seed=5432)\n",
    "\n",
    "x_seq = T.fmatrix()\n",
    "y_hat = T.fmatrix()\n",
    "ind = T.scalar() #Help to do minibatch\n",
    "bud = T.scalar() #Help to do Dropout \n",
    "\n",
    "##### Initialize parameters #####\n",
    "cons = 0.001; a=0; s=0.01; neuron = 48\n",
    "a_0 = th.shared(0*np.random.randn(neuron))\n",
    "h_0 = th.shared(0*np.random.randn(neuron))\n",
    "Wi = th.shared(s*np.random.randn(48,neuron)-a)\n",
    "Wf = th.shared(s*np.random.randn(48,neuron)+0.005-a)\n",
    "Wo = th.shared(s*np.random.randn(48,neuron)-a)\n",
    "W = th.shared(s*np.random.randn(48,neuron)-a)\n",
    "Ui = th.shared(s*np.random.randn(neuron,neuron)-a)\n",
    "Uf = th.shared(s*np.identity(neuron)-a)\n",
    "Uo = th.shared(s*np.random.randn(neuron,neuron)-a)\n",
    "U = th.shared(s*np.random.randn(neuron,neuron)-a)\n",
    "Vi = th.shared(s*np.random.randn(neuron,neuron)-a)\n",
    "Vf = th.shared(s*np.identity(neuron)-a)\n",
    "Vo = th.shared(s*np.random.randn(neuron,neuron)-a)\n",
    "bi = th.shared(cons*np.random.randn(neuron))#-a)\n",
    "bf = th.shared(cons*np.random.randn(neuron))#-a)\n",
    "bo = th.shared(cons*np.random.randn(neuron))#-a)\n",
    "b = th.shared(cons*np.random.randn(neuron))#-a)\n",
    "#Wout = th.shared(cons*np.random.randn(2*neuron,48)-a)\n",
    "\n",
    "Wi1f = th.shared(s*np.random.randn(2*neuron,neuron)-a)\n",
    "Wf1f = th.shared(s*np.random.randn(2*neuron,neuron)+0.005-a)\n",
    "Wo1f = th.shared(s*np.random.randn(2*neuron,neuron)-a)\n",
    "W1f = th.shared(s*np.random.randn(2*neuron,neuron)-a)\n",
    "Wi1b = th.shared(s*np.random.randn(2*neuron,neuron)-a)\n",
    "Wf1b = th.shared(s*np.random.randn(2*neuron,neuron)+0.005-a)\n",
    "Wo1b = th.shared(s*np.random.randn(2*neuron,neuron)-a)\n",
    "W1b = th.shared(s*np.random.randn(2*neuron,neuron)-a)\n",
    "Ui1 = th.shared(s*np.random.randn(neuron,neuron)-a)\n",
    "Uf1 = th.shared(s*np.identity(neuron)-a)\n",
    "Uo1 = th.shared(s*np.random.randn(neuron,neuron)-a)\n",
    "U1 = th.shared(s*np.random.randn(neuron,neuron)-a)\n",
    "Vi1 = th.shared(s*np.random.randn(neuron,neuron)-a)\n",
    "Vf1 = th.shared(s*np.identity(neuron)-a)\n",
    "Vo1 = th.shared(s*np.random.randn(neuron,neuron)-a)\n",
    "bi1f = th.shared(cons*np.random.randn(neuron))#-a)\n",
    "bf1f = th.shared(cons*np.random.randn(neuron))#-a)\n",
    "bo1f = th.shared(cons*np.random.randn(neuron))#-a)\n",
    "b1f = th.shared(cons*np.random.randn(neuron))#-a)\n",
    "bi1b = th.shared(cons*np.random.randn(neuron))#-a)\n",
    "bf1b = th.shared(cons*np.random.randn(neuron))#-a)\n",
    "bo1b = th.shared(cons*np.random.randn(neuron))#-a)\n",
    "b1b = th.shared(cons*np.random.randn(neuron))#-a)\n",
    "W1out = th.shared(cons*np.random.randn(2*neuron,48)-a)\n",
    "\n",
    "Auxiliary = []; Temp = []\n",
    "parameters = [Wi,Wf,Wo,W,bi,bf,bo,b,U,Ui,Uf,Uo,Vi,Vf,Vo,Wi1f,Wf1f,Wo1f,W1f,Wi1b,Wf1b,Wo1b,W1b,bi1f,bf1f,bo1f,b1f\n",
    "              ,bi1b,bf1b,bo1b,b1b,U1,Ui1,Uf1,Uo1,Vi1,Vf1,Vo1,W1out]\n",
    "for param in parameters:\n",
    "    Auxiliary.append(th.shared(np.zeros(param.get_value().shape)))\n",
    "    Temp.append(th.shared(np.zeros(param.get_value().shape)))\n",
    "\n",
    "##### Do gradient clip #####\n",
    "c = 1\n",
    "Wi = th.gradient.grad_clip(Wi,-c,c)\n",
    "bi = th.gradient.grad_clip(bi,-c,c)\n",
    "Wf = th.gradient.grad_clip(Wf,-c,c)\n",
    "bf = th.gradient.grad_clip(bf,-c,c)\n",
    "Wo = th.gradient.grad_clip(Wo,-c,c)\n",
    "bo = th.gradient.grad_clip(bo,-c,c)\n",
    "W = th.gradient.grad_clip(W,-c,c)\n",
    "b = th.gradient.grad_clip(b,-c,c)\n",
    "Ui = th.gradient.grad_clip(Ui,-c,c)\n",
    "Uf = th.gradient.grad_clip(Uf,-c,c)\n",
    "Uo = th.gradient.grad_clip(Uo,-c,c)\n",
    "U = th.gradient.grad_clip(U,-c,c)\n",
    "Vi = th.gradient.grad_clip(Vi,-c,c)\n",
    "Vf = th.gradient.grad_clip(Vf,-c,c)\n",
    "Vo = th.gradient.grad_clip(Vo,-c,c)\n",
    "#Wout = th.gradient.grad_clip(Wout,-c,c)\n",
    "\n",
    "Wi1f = th.gradient.grad_clip(Wi1f,-c,c)\n",
    "bi1f = th.gradient.grad_clip(bi1f,-c,c)\n",
    "Wf1f = th.gradient.grad_clip(Wf1f,-c,c)\n",
    "bf1f = th.gradient.grad_clip(bf1f,-c,c)\n",
    "Wo1f = th.gradient.grad_clip(Wo1f,-c,c)\n",
    "bo1f = th.gradient.grad_clip(bo1f,-c,c)\n",
    "W1f = th.gradient.grad_clip(W1f,-c,c)\n",
    "b1f = th.gradient.grad_clip(b1f,-c,c)\n",
    "Wi1b = th.gradient.grad_clip(Wi1b,-c,c)\n",
    "bi1b = th.gradient.grad_clip(bi1b,-c,c)\n",
    "Wf1b = th.gradient.grad_clip(Wf1b,-c,c)\n",
    "bf1b = th.gradient.grad_clip(bf1b,-c,c)\n",
    "Wo1b = th.gradient.grad_clip(Wo1b,-c,c)\n",
    "bo1b = th.gradient.grad_clip(bo1b,-c,c)\n",
    "W1b = th.gradient.grad_clip(W1b,-c,c)\n",
    "b1b = th.gradient.grad_clip(b1b,-c,c)\n",
    "Ui1 = th.gradient.grad_clip(Ui1,-c,c)\n",
    "Uf1 = th.gradient.grad_clip(Uf1,-c,c)\n",
    "Uo1 = th.gradient.grad_clip(Uo1,-c,c)\n",
    "U1 = th.gradient.grad_clip(U1,-c,c)\n",
    "Vi1 = th.gradient.grad_clip(Vi1,-c,c)\n",
    "Vf1 = th.gradient.grad_clip(Vf1,-c,c)\n",
    "Vo1 = th.gradient.grad_clip(Vo1,-c,c)\n",
    "W1out = th.gradient.grad_clip(W1out,-c,c)\n",
    "\n",
    "##### Optimization methods #####\n",
    "def Update_Momentum(para,grad,ind,Momentum,Temp):\n",
    "    \"\"\"theano update, optimized by Momentum\"\"\"\n",
    "    updates = []; off_on = ifelse(T.lt(ind,bat-1),0,1)\n",
    "    for ix in range(len(grad)):\n",
    "        gradient = T.clip(grad[ix],-1,1)#T.clip(grad[ix],np.float32(-0.01),np.float32(0.01))\n",
    "        direction = (0.95)*Momentum[ix] - (learing_rate/bat)*(gradient+Temp[ix])\n",
    "        updates.append((para[ix], para[ix]+direction*off_on))\n",
    "        updates.append((Momentum[ix], Momentum[ix]*(1-off_on)+direction*off_on))\n",
    "        updates.append((Temp[ix], (Temp[ix]+gradient)*(1-off_on)))\n",
    "    return updates\n",
    "\n",
    "def Update_NAG(para,grad,ind,Real,Temp):\n",
    "    \"\"\"theano update, optimized by NAG\"\"\"\n",
    "    updates = []; off_on = ifelse(T.lt(ind,bat-1),0,1)\n",
    "    for ix in range(len(grad)):\n",
    "        grad[ix] = T.clip(grad[ix],-1,1)\n",
    "        gradient = -(learing_rate/bat)*(grad[ix]+Temp[ix])\n",
    "        spy_position = (1+0.95)*(para[ix]+gradient)-0.95*Real[ix]\n",
    "        updates.append((para[ix], (spy_position)*off_on+para[ix]*(1-off_on)))\n",
    "        updates.append((Real[ix], (para[ix]+gradient)*off_on+Real[ix]*(1-off_on)))\n",
    "        updates.append((Temp[ix], (Temp[ix]+grad[ix])*(1-off_on)))\n",
    "    return updates\n",
    "\n",
    "def Update_RMSProp(para,grad,ind,Sigma_square,Temp):\n",
    "    \"\"\"theano update, optimized by RMSProp\"\"\"\n",
    "    updates = []; off_on = ifelse(T.lt(ind,bat-1),0,1); alpha = 0.9\n",
    "    for ix in range(len(grad)):\n",
    "        #grad[ix] = T.clip(grad[ix],-1,1)\n",
    "        gradient = (grad[ix]+Temp[ix])/bat\n",
    "        Factor = Sigma_square[ix]*alpha+(1-alpha)*gradient**2\n",
    "        direction = -(learing_rate)*gradient/T.sqrt(Factor)\n",
    "        updates.append((para[ix], (para[ix]+direction)*off_on+para[ix]*(1-off_on)))\n",
    "        updates.append((Sigma_square[ix], Factor*off_on+Sigma_square[ix]*(1-off_on)))\n",
    "        updates.append((Temp[ix], (Temp[ix]+grad[ix])*(1-off_on)))\n",
    "    return updates\n",
    "\n",
    "##### Activation Functions #####\n",
    "def sigmoid(Z):\n",
    "    return 1/(1+T.exp(-Z))\n",
    "\n",
    "def ReLU(Z):\n",
    "    return T.switch(Z<0,0,Z)\n",
    "\n",
    "def tanh(Z):\n",
    "    return T.tanh(Z)\n",
    "\n",
    "def softmax(Z):\n",
    "    z = T.exp(Z)\n",
    "    return (z.T/T.sum(z,axis=1)).T\n",
    "\n",
    "def step(z_t,zi_t,zf_t,zo_t,c_tm1,h_tm1):\n",
    "    Z_t = tanh(z_t + T.dot(h_tm1,U))\n",
    "    Zi_t = sigmoid(zi_t + T.dot(h_tm1,Ui) + T.dot(c_tm1,Vi))\n",
    "    Zf_t = sigmoid(zf_t + T.dot(h_tm1,Uf) + T.dot(c_tm1,Vf)) \n",
    "    c_t = Z_t*Zi_t + c_tm1*Zf_t\n",
    "    Zo_t = sigmoid(zo_t + T.dot(h_tm1,Uo) + T.dot(c_t,Vo))\n",
    "    h_t = tanh(c_t)*Zo_t\n",
    "    return c_t, h_t\n",
    "\n",
    "def step2(z_t,zi_t,zf_t,zo_t,c_tm1,h_tm1):\n",
    "    Z_t = tanh(z_t + T.dot(h_tm1,U1))\n",
    "    Zi_t = sigmoid(zi_t + T.dot(h_tm1,Ui1) + T.dot(c_tm1,Vi1))\n",
    "    Zf_t = sigmoid(zf_t + T.dot(h_tm1,Uf1) + T.dot(c_tm1,Vf1)) \n",
    "    c_t = Z_t*Zi_t + c_tm1*Zf_t\n",
    "    Zo_t = sigmoid(zo_t + T.dot(h_tm1,Uo1) + T.dot(c_t,Vo1))\n",
    "    h_t = tanh(c_t)*Zo_t\n",
    "    return c_t, h_t\n",
    "\n",
    "##### Structure Building #####\n",
    "z_seq = T.dot(x_seq,W)+b.dimshuffle('x',0)\n",
    "zi_seq = T.dot(x_seq,Wi)+bi.dimshuffle('x',0)\n",
    "zo_seq = T.dot(x_seq,Wo)+bo.dimshuffle('x',0)\n",
    "zf_seq = T.dot(x_seq,Wf)+bf.dimshuffle('x',0)\n",
    "\n",
    "# Forward direction\n",
    "[cf_seq,hf_seq],_ = th.scan(step, sequences = [z_seq,zi_seq,zf_seq,zo_seq], \n",
    "                               outputs_info = [a_0,h_0],\n",
    "                              truncate_gradient=-1)\n",
    "# Backward direction\n",
    "[cb_seq,hb_seq],_ = th.scan(step, sequences = [z_seq[::-1],zi_seq[::-1],zf_seq[::-1],zo_seq[::-1]], \n",
    "                               outputs_info = [a_0,h_0],\n",
    "                              truncate_gradient=-1)\n",
    "\n",
    "y1_seq = T.concatenate([hf_seq,hb_seq[::-1]],axis=1)\n",
    "#h_seq = ifelse(T.lt(bud,1.05), h_out*srng.binomial(size=T.shape(h_out),p=0.8),h_out)/bud  #Dropout\n",
    "#y1_seq = softmax(T.dot(h_out,Wout))*(bud/bud)\n",
    "\n",
    "z1f_seq = T.dot(y1_seq,W1f)+b1f.dimshuffle('x',0)\n",
    "zi1f_seq = T.dot(y1_seq,Wi1f)+bi1f.dimshuffle('x',0)\n",
    "zo1f_seq = T.dot(y1_seq,Wo1f)+bo1f.dimshuffle('x',0)\n",
    "zf1f_seq = T.dot(y1_seq,Wf1f)+bf1f.dimshuffle('x',0)\n",
    "\n",
    "z1b_seq = T.dot(y1_seq,W1b)+b1b.dimshuffle('x',0)\n",
    "zi1b_seq = T.dot(y1_seq,Wi1b)+bi1b.dimshuffle('x',0)\n",
    "zo1b_seq = T.dot(y1_seq,Wo1b)+bo1b.dimshuffle('x',0)\n",
    "zf1b_seq = T.dot(y1_seq,Wf1b)+bf1b.dimshuffle('x',0)\n",
    "\n",
    "# Forward direction\n",
    "[cf1_seq,hf1_seq],_ = th.scan(step2, sequences = [z1f_seq,zi1f_seq,zf1f_seq,zo1f_seq], \n",
    "                               outputs_info = [a_0,h_0],\n",
    "                              truncate_gradient=-1)\n",
    "# Backward direction\n",
    "[cb1_seq,hb1_seq],_ = th.scan(step2, sequences = [z1b_seq[::-1],zi1b_seq[::-1],zf1b_seq[::-1],zo1b_seq[::-1]], \n",
    "                               outputs_info = [a_0,h_0],\n",
    "                              truncate_gradient=-1)\n",
    "\n",
    "h1_out = T.concatenate([hf1_seq,hb1_seq[::-1]],axis=1)\n",
    "y_seq = softmax(T.dot(h1_out,W1out))+bud*0\n",
    "forword = th.function(inputs=[x_seq,bud],outputs=y_seq)\n",
    "\n",
    "cost = (1+ind-ind)*T.sum((y_seq-y_hat)**2)\n",
    "valid = th.function(inputs=[x_seq,y_hat,ind,bud],outputs=cost)\n",
    "grads = T.grad(cost,parameters)#,disconnected_inputs='ignore')\n",
    "    \n",
    "rnn_train = th.function(inputs=[x_seq,y_hat,ind,bud],outputs=cost,\n",
    "                       updates=Update_NAG(parameters,grads,ind,Auxiliary,Temp))\n",
    "\n",
    "def Validation():\n",
    "    \"\"\"Calculate the average edit distance on validation set\"\"\"\n",
    "    Valid_X = []\n",
    "    for i in range(3000,len(Train_Num)):\n",
    "        xval = ''; last = ''\n",
    "        for l in forword(TrainX[Train_Num[Order[i]]],1.25):\n",
    "            phone = Map[mapping[Map_label(np.argmax(l))]]\n",
    "            if last != phone:\n",
    "                xval = xval + phone + ' '\n",
    "            last = phone\n",
    "        Valid_X.append(xval[:-1])\n",
    "        \n",
    "    Valid_Yhat = Valid_Y()\n",
    "    return np.mean([edit(Valid_X[i] ,Valid_Yhat[i]) for i in range(len(Valid_X))]).astype(np.float32)\n",
    "\n",
    "def Valid_Cost():\n",
    "    \"\"\"Calculate the cost of the validation set\"\"\"\n",
    "    N = 0;C = 0\n",
    "    for i in range(3000,len(Train_Num)):\n",
    "        C += valid(TrainX[Train_Num[Order[i]]],TrainY[Train_Num[Order[i]]],1,1.25)\n",
    "        N += len(TrainX[Train_Num[Order[i]]])\n",
    "    return C/N\n",
    "\n",
    "def Permutate(n):\n",
    "    \"\"\"Auxiliary function for making batch of each epoch\"\"\"\n",
    "    s = np.random.permutation(n)\n",
    "    for i in range(n):\n",
    "        yield s[i]\n",
    "\n",
    "print(\"Model constructed, %f seconds. Start training...\"%(time.clock()-st))"
   ]
  },
  {
   "cell_type": "code",
   "execution_count": 5,
   "metadata": {
    "collapsed": false,
    "scrolled": true
   },
   "outputs": [
    {
     "name": "stdout",
     "output_type": "stream",
     "text": [
      "Cost on last 500 data: 0.837225\n",
      "Cost on last 500 data: 0.444724\n",
      "Cost on last 500 data: 0.325749\n",
      "Cost on last 500 data: 0.285817\n",
      "1 Epoch(s) trained, 832.441852 seconds passed from start.\n",
      "Cost on last 500 data: 0.261308\n",
      "Cost on last 500 data: 0.254735\n",
      "Cost on last 500 data: 0.249278\n",
      "Cost on last 500 data: 0.252798\n",
      "2 Epoch(s) trained, 1525.374443 seconds passed from start.\n",
      "Cost on last 500 data: 0.246811\n",
      "Cost on last 500 data: 0.238097\n",
      "Cost on last 500 data: 0.242009\n",
      "Cost on last 500 data: 0.240176\n",
      "3 Epoch(s) trained, 2211.778894 seconds passed from start.\n",
      "Cost on last 500 data: 0.234806\n",
      "Cost on last 500 data: 0.234105\n",
      "Cost on last 500 data: 0.238833\n",
      "Cost on last 500 data: 0.236541\n",
      "4 Epoch(s) trained, 2892.964258 seconds passed from start.\n",
      "Cost on last 500 data: 0.230625\n",
      "Cost on last 500 data: 0.234990\n",
      "Cost on last 500 data: 0.233112\n",
      "Cost on last 500 data: 0.229174\n",
      "5 Epoch(s) trained, 3574.959214 seconds passed from start.\n",
      "Done training. Using 3574.959737 seconds.\n"
     ]
    }
   ],
   "source": [
    "Record=[]; Cost = []; Valid_C = []\n",
    "for j in range(5):\n",
    "    C = 0; N = 0; batch = 0\n",
    "    V = Permutate(3696)\n",
    "    for i in range(3696):\n",
    "        index = next(V)\n",
    "        C += rnn_train(TrainX[Train_Num[Order[index]]],TrainY[Train_Num[Order[index]]],batch,1)\n",
    "        N += len(TrainX[Train_Num[Order[index]]])\n",
    "        Cost.append(C/N)\n",
    "        if i%900 == 899:\n",
    "            #Valid_C.append(Valid_Cost())\n",
    "            print('Cost on last 500 data: %f'%(C/N))\n",
    "            C = 0; N = 0\n",
    "            #if j > 2:\n",
    "                #val = Validation()\n",
    "                #Record.append(val);\n",
    "                #print(\"Edit distance on Validation Set: %f\" %(val))\n",
    "                #if len(Record)>1 and Record[-2]+0.5 <= Record[-1]:\n",
    "                #    break\n",
    "\n",
    "        batch = batch+1 if batch != (bat-1) else 0\n",
    "    print('%d Epoch(s) trained, %f seconds passed from start.'%((j+1),time.clock()-st))\n",
    "\n",
    "end = time.clock()\n",
    "print(\"Done training. Using %f seconds.\" % (end-st))"
   ]
  },
  {
   "cell_type": "code",
   "execution_count": 5,
   "metadata": {
    "collapsed": false
   },
   "outputs": [
    {
     "data": {
      "text/plain": [
       "0.83493310015154232"
      ]
     },
     "execution_count": 5,
     "metadata": {},
     "output_type": "execute_result"
    }
   ],
   "source": [
    "#for w in parameters:\n",
    "#    print(w.get_value()[0])\n"
   ]
  },
  {
   "cell_type": "code",
   "execution_count": 6,
   "metadata": {
    "collapsed": false
   },
   "outputs": [
    {
     "data": {
      "text/plain": [
       "[<matplotlib.lines.Line2D at 0x16b7f87b8>]"
      ]
     },
     "execution_count": 6,
     "metadata": {},
     "output_type": "execute_result"
    },
    {
     "data": {
      "image/png": "[encoded data removed]",
      "text/plain": [
       "<matplotlib.figure.Figure at 0x10b6cdda0>"
      ]
     },
     "metadata": {},
     "output_type": "display_data"
    }
   ],
   "source": [
    "import matplotlib.pyplot as plt\n",
    "%matplotlib inline\n",
    "#plt.plot(Record)\n",
    "plt.plot(Cost,color='red')\n",
    "#plt.figure()\n",
    "#plt.plot(Valid_C,color='blue')"
   ]
  },
  {
   "cell_type": "code",
   "execution_count": 7,
   "metadata": {
    "collapsed": false
   },
   "outputs": [
    {
     "name": "stdout",
     "output_type": "stream",
     "text": [
      "Start predicting...\n"
     ]
    }
   ],
   "source": [
    "print(\"Start predicting...\")\n",
    "\n",
    "Test = np.load('prob.out.npz')  #DNN prediction of testing set\n",
    "Test = Test[Test.files[0]]\n",
    "TID = np.load('TestID.npz')\n",
    "TestID = TID[TID.files[0]][0]\n",
    "\n",
    "TestD , _ , Test_Num = make_vector_sequence(Test,TestID,False)\n",
    "Output = []\n",
    "for i in range(len(Test_Num)):\n",
    "    for l in forword(TestD[Test_Num[i]],1.25):\n",
    "        Output.append(l)\n",
    "\n",
    "Output = np.array(Output)\n",
    "np.savez('LSTM48-48',Output)"
   ]
  },
  {
   "cell_type": "code",
   "execution_count": 8,
   "metadata": {
    "collapsed": false
   },
   "outputs": [
    {
     "name": "stdout",
     "output_type": "stream",
     "text": [
      "All Done.\n"
     ]
    }
   ],
   "source": [
    "Prediction = []\n",
    "for i in range(len(Test_Num)):\n",
    "    pre = []\n",
    "    for l in forword(TestD[Test_Num[i]],1.25):\n",
    "        pre.append(mapping[Map_label(np.argmax(l))])\n",
    "    Prediction.append(pre)\n",
    "\n",
    "def check(L,i): \n",
    "    \"\"\"Sanity Check function to correct unreasonable predictions\"\"\"\n",
    "    if L[i-1] == L[i+1] and L[i] != L[i-1]: #front == behind != me\n",
    "        return True\n",
    "    elif L[i]!= L[i+1] and L[i]!= L[i-1]:  # me, front, behind are different \n",
    "        return True\n",
    "    else:\n",
    "        return False\n",
    "\n",
    "for inde, pred in enumerate(Prediction):\n",
    "    for i in range(1,len(pred)-1):\n",
    "        if check(pred,i):\n",
    "            pred[i] = pred[i-1]\n",
    "    Prediction[inde] = pred\n",
    "\n",
    "import csv\n",
    "csvfile = open('LSTM_predict.csv','w',newline='')\n",
    "write = csv.writer(csvfile, delimiter=',')\n",
    "write.writerow(['id','phone_sequence'])\n",
    "\n",
    "for ind, pre in enumerate(Prediction):\n",
    "    predict = ''; last = ''\n",
    "    for phone in pre:\n",
    "        if last != phone:\n",
    "            predict = predict + Map[phone]\n",
    "        last = phone\n",
    "    write.writerow([Test_Num[ind],predict[1:-1]])\n",
    "    \n",
    "print(\"All Done.\")"
   ]
  },
  {
   "cell_type": "code",
   "execution_count": 9,
   "metadata": {
    "collapsed": false
   },
   "outputs": [
    {
     "name": "stdout",
     "output_type": "stream",
     "text": [
      "All Done.\n"
     ]
    }
   ],
   "source": [
    "import csv\n",
    "csvfile = open('LSTM_predict.csv','w',newline='')\n",
    "write = csv.writer(csvfile, delimiter=',')\n",
    "write.writerow(['id','phone_sequence'])\n",
    "\n",
    "for ind, pre in enumerate(Prediction):\n",
    "    predict = ''; last = ''\n",
    "    for phone in pre:\n",
    "        if last != phone:\n",
    "            predict = predict + Map[phone]\n",
    "        last = phone\n",
    "    write.writerow([Test_Num[ind],predict[1:-1]])\n",
    "    \n",
    "print(\"All Done.\")"
   ]
  },
  {
   "cell_type": "markdown",
   "metadata": {},
   "source": [
    "<h3 align=\"center\">Testing Ground</h3> "
   ]
  },
  {
   "cell_type": "code",
   "execution_count": 28,
   "metadata": {
    "collapsed": false
   },
   "outputs": [
    {
     "name": "stdout",
     "output_type": "stream",
     "text": [
      "here\n"
     ]
    },
    {
     "data": {
      "text/plain": [
       "array(3.0)"
      ]
     },
     "execution_count": 28,
     "metadata": {},
     "output_type": "execute_result"
    }
   ],
   "source": [
    "zzzz = th.shared(3)\n",
    "xx = T.scalar()\n",
    "def ff(xx):\n",
    "    #test()\n",
    "    return xx\n",
    "\n",
    "def Up(xx,zzzz):\n",
    "    test()\n",
    "    return [(zzzz,zzzz)]\n",
    "DD = th.function([xx],ff(xx),updates=Up(xx,zzzz))\n",
    "\n",
    "DD(3)"
   ]
  },
  {
   "cell_type": "code",
   "execution_count": 9,
   "metadata": {
    "collapsed": false
   },
   "outputs": [
    {
     "name": "stderr",
     "output_type": "stream",
     "text": [
      "/Users/aaronlai/anaconda/lib/python3.4/importlib/_bootstrap.py:321: RuntimeWarning: numpy.ndarray size changed, may indicate binary incompatibility\n",
      "  return f(*args, **kwds)\n"
     ]
    },
    {
     "data": {
      "text/plain": [
       "array([ 10.,  61.,  61.,  10.])"
      ]
     },
     "execution_count": 9,
     "metadata": {},
     "output_type": "execute_result"
    }
   ],
   "source": [
    "#Test About Bi-Direction\n",
    "A = T.matrix()\n",
    "resu,_ = th.scan(lambda a,b: T.dot(a,b),sequences=[A,A[::-1]])\n",
    "f = th.function(inputs=[A],outputs=resu)\n",
    "\n",
    "f([[1,2,3],[9,2,3],[6,2,1],[4,3,0]])"
   ]
  },
  {
   "cell_type": "code",
   "execution_count": 8,
   "metadata": {
    "collapsed": false
   },
   "outputs": [
    {
     "data": {
      "text/plain": [
       "array([[ 0.5       ,  1.        ,  1.5       ],\n",
       "       [ 3.        ,  0.66666667,  1.        ],\n",
       "       [ 1.5       ,  0.5       ,  0.25      ],\n",
       "       [ 0.8       ,  0.6       ,  0.        ]])"
      ]
     },
     "execution_count": 8,
     "metadata": {},
     "output_type": "execute_result"
    }
   ],
   "source": [
    "#Test about division row by row\n",
    "A = T.matrix()\n",
    "B = T.vector()\n",
    "F = th.function(inputs=[A,B],outputs = (A.T/B).T)\n",
    "\n",
    "F([[1,2,3],[9,2,3],[6,2,1],[4,3,0]],[2,3,4,5])"
   ]
  },
  {
   "cell_type": "code",
   "execution_count": 7,
   "metadata": {
    "collapsed": false
   },
   "outputs": [
    {
     "data": {
      "text/plain": [
       "array([[[ -5.,  11.,  30.,  12.,   9.],\n",
       "        [ -2.,  28.,  60.,  32.,  14.]],\n",
       "\n",
       "       [[-12.,  25.,  72.,  30.,  20.],\n",
       "        [  8.,  43.,  24.,   0.,  30.]]])"
      ]
     },
     "execution_count": 7,
     "metadata": {},
     "output_type": "execute_result"
    }
   ],
   "source": [
    "#Test about tensordot\n",
    "A = T.tensor3()\n",
    "B = T.matrix()\n",
    "c = T.tensordot(A,B,axes=[[2],[0]])\n",
    "\n",
    "F = th.function(inputs=[A,B],outputs = c)\n",
    "\n",
    "F([[[3,1,2],[4,2,6]],[[7,2,5],[3,8,1]]],[[-3,0,6,1,2],[2,5,0,-1,3],[1,3,6,5,0]])"
   ]
  },
  {
   "cell_type": "code",
   "execution_count": 6,
   "metadata": {
    "collapsed": false
   },
   "outputs": [
    {
     "data": {
      "text/plain": [
       "array([[[ 3.,  1.,  2.],\n",
       "        [ 7.,  2.,  5.],\n",
       "        [ 7.,  2.,  5.],\n",
       "        [ 7.,  2.,  5.]],\n",
       "\n",
       "       [[ 4.,  2.,  6.],\n",
       "        [ 3.,  8.,  1.],\n",
       "        [ 3.,  8.,  1.],\n",
       "        [ 3.,  8.,  1.]]])"
      ]
     },
     "execution_count": 6,
     "metadata": {},
     "output_type": "execute_result"
    }
   ],
   "source": [
    "#Test about collect all i-th rows in all matrix to form a new matrix\n",
    "A = T.tensor3()\n",
    "B = T.matrix()\n",
    "c = T.tensordot(A,B,axes=[[2],[0]])\n",
    "\n",
    "F = th.function(inputs=[A],outputs = A.dimshuffle(1,0,2))\n",
    "\n",
    "F([[[3,1,2],[4,2,6]],[[7,2,5],[3,8,1]],[[7,2,5],[3,8,1]],[[7,2,5],[3,8,1]]])"
   ]
  },
  {
   "cell_type": "code",
   "execution_count": 3,
   "metadata": {
    "collapsed": true
   },
   "outputs": [
    {
     "name": "stdout",
     "output_type": "stream",
     "text": [
      "['sil', 'sil', 'sil', 'sil', 'sil', 'sil', 'sil', 'sil', 'sil', 'hh', 'hh', 'hh', 'hh', 'hh', 'hh', 'hh', 'hh', 'hh', 'hh', 'hh', 'iy', 'iy', 'iy', 'iy', 'iy', 'uw', 'uw', 'uw', 'l', 'l', 'w', 'l', 'l', 'l', 'l', 'l', 'ih', 'ih', 'ih', 'ih', 'ih', 'ih', 'ih', 'l', 'l', 'l', 'l', 'l', 'l', 'l', 'l', 'l', 'l', 'aa', 'ah', 'ah', 'ah', 'ah', 'ow', 'ow', 'ow', 'ah', 'ah', 'l', 'l', 'l', 'l', 'l', 'l', 'l', 'l', 'l', 'l', 'l', 'ae', 'ae', 'ae', 'ae', 'ae', 'ae', 'ae', 'ae', 'aw', 'aw', 'aw', 'aw', 'aw', 'aw', 'aw', 'aw', 'aw', 'aw', 'aw', 'aw', 'aw', 'aw', 'aw', 'aw', 'aw', 'aw', 'aa', 'aa', 'aa', 'aa', 'aa', 'aa', 'aa', 'aw', 'aa', 'aw', 'aw', 'ah', 'aa', 'aa', 'aa', 'aa', 'aa', 'r', 'er', 'er', 'er', 'er', 'er', 'er', 'er', 'er', 'r', 'r', 'r', 'er', 'er', 'er', 'r', 'ey', 'ey', 'ae', 'ae', 'ae', 'eh', 'eh', 'eh', 'eh', 'eh', 'eh', 'eh', 'eh', 'eh', 'eh', 'eh', 'eh', 'er', 'r', 'er', 'er', 'er', 'er', 'er', 'er', 'l', 'l', 'l', 'l', 'l', 'l', 'l', 'l', 'l', 'l', 'aa', 'ay', 'ay', 'ay', 'ay', 'ay', 'ay', 'ay', 'ay', 'ay', 'ay', 'ay', 'ay', 'ay', 'ay', 'ay', 'ay', 'ay', 'ay', 'ay', 'ay', 'ay', 'ay', 'aw', 'aw', 'm', 'm', 'm', 'm', 'm', 'hh', 'sil', 'sil', 'sil', 'sil', 'sil', 'sil', 'sil', 'sil', 'sil', 'sil', 'sil', 'sil', 'sil', 'sil', 'sil', 'sil', 'sil', 'sil', 'sil'] fadg0_si1279\n",
      "['sil', 'sil', 'sil', 'sil', 'sil', 'sil', 'sil', 'sil', 'sil', 'hh', 'hh', 'hh', 'hh', 'hh', 'hh', 'hh', 'hh', 'hh', 'hh', 'hh', 'iy', 'iy', 'iy', 'iy', 'iy', 'uw', 'uw', 'uw', 'l', 'l', 'l', 'l', 'l', 'l', 'l', 'l', 'ih', 'ih', 'ih', 'ih', 'ih', 'ih', 'ih', 'l', 'l', 'l', 'l', 'l', 'l', 'l', 'l', 'l', 'l', 'l', 'ah', 'ah', 'ah', 'ah', 'ow', 'ow', 'ow', 'ah', 'ah', 'l', 'l', 'l', 'l', 'l', 'l', 'l', 'l', 'l', 'l', 'l', 'ae', 'ae', 'ae', 'ae', 'ae', 'ae', 'ae', 'ae', 'aw', 'aw', 'aw', 'aw', 'aw', 'aw', 'aw', 'aw', 'aw', 'aw', 'aw', 'aw', 'aw', 'aw', 'aw', 'aw', 'aw', 'aw', 'aa', 'aa', 'aa', 'aa', 'aa', 'aa', 'aa', 'aa', 'aa', 'aw', 'aw', 'aw', 'aa', 'aa', 'aa', 'aa', 'aa', 'aa', 'er', 'er', 'er', 'er', 'er', 'er', 'er', 'er', 'r', 'r', 'r', 'er', 'er', 'er', 'er', 'ey', 'ey', 'ae', 'ae', 'ae', 'eh', 'eh', 'eh', 'eh', 'eh', 'eh', 'eh', 'eh', 'eh', 'eh', 'eh', 'eh', 'eh', 'eh', 'er', 'er', 'er', 'er', 'er', 'er', 'l', 'l', 'l', 'l', 'l', 'l', 'l', 'l', 'l', 'l', 'l', 'ay', 'ay', 'ay', 'ay', 'ay', 'ay', 'ay', 'ay', 'ay', 'ay', 'ay', 'ay', 'ay', 'ay', 'ay', 'ay', 'ay', 'ay', 'ay', 'ay', 'ay', 'ay', 'aw', 'aw', 'm', 'm', 'm', 'm', 'm', 'm', 'sil', 'sil', 'sil', 'sil', 'sil', 'sil', 'sil', 'sil', 'sil', 'sil', 'sil', 'sil', 'sil', 'sil', 'sil', 'sil', 'sil', 'sil', 'sil']\n",
      "['sil', 'hh', 'iy', 'uw', 'l', 'ih', 'l', 'ah', 'ow', 'ah', 'l', 'ae', 'aw', 'aa', 'aw', 'aa', 'er', 'r', 'er', 'ey', 'ae', 'eh', 'er', 'l', 'ay', 'aw', 'm', 'sil']\n",
      "Done.\n"
     ]
    }
   ],
   "source": [
    "#Transform DNN's result suitable for counting Edit Distance\n",
    "import numpy as np\n",
    "from collections import defaultdict\n",
    "\n",
    "File = open('Predicts.csv')\n",
    "Raw = File.readlines()\n",
    "File.close()\n",
    "Raw.pop(0)\n",
    "\n",
    "Data = defaultdict(list)\n",
    "Number = {}\n",
    "\n",
    "n = 0; old = ''\n",
    "for line in Raw:\n",
    "    ID,cha = line.strip().split(',')\n",
    "    ID = '_'.join(ID.split('_')[:2])\n",
    "    Data[ID].append(cha)\n",
    "    if ID != old:\n",
    "        Number[n] = ID\n",
    "        n += 1\n",
    "        old = ID\n",
    "\n",
    "print(Data['fjmg0_sx11'], Number[0])\n",
    "def decide(value,i):\n",
    "    if value[i-1] == value[i+1]:\n",
    "        return True\n",
    "    elif value[i]!= value[i+1]:\n",
    "        return True\n",
    "    else:\n",
    "        return False\n",
    "    \n",
    "for key,value in Data.items():\n",
    "    for i in range(1,len(value)-1):\n",
    "        if decide(value,i) and value[i]!= value[i-1]:\n",
    "            value[i] = value[i-1]\n",
    "    Data[key] = value\n",
    "    \n",
    "print(Data['fjmg0_sx11'])\n",
    "\n",
    "Pre = defaultdict(list)\n",
    "for key,value in Data.items():\n",
    "    for v in value:\n",
    "        if len(Pre[key])==0 or Pre[key][-1]!= v:\n",
    "            Pre[key].append(v)\n",
    "            \n",
    "print(Pre['fjmg0_sx11'])\n",
    "\n",
    "M = open('48_idx_chr.map_b')\n",
    "mapp = M.readlines()\n",
    "M.close()\n",
    "\n",
    "Map = {}\n",
    "for line in mapp:\n",
    "    line = line.strip().split(' ')\n",
    "    word,_ = line[0].split('\\t')\n",
    "    Map[word] = line[-1]\n",
    "    \n",
    "import csv\n",
    "csvfile = open('V1.csv','w',newline='')\n",
    "write = csv.writer(csvfile, delimiter=',')\n",
    "write.writerow(['id','phone_sequence'])\n",
    "\n",
    "for i in range(len(Number)):\n",
    "    S = ''\n",
    "    for word in Pre[Number[i]]:\n",
    "        S = S + Map[word]\n",
    "    write.writerow([Number[i],S])\n",
    "    \n",
    "print(\"Done.\")"
   ]
  },
  {
   "cell_type": "code",
   "execution_count": null,
   "metadata": {
    "collapsed": true
   },
   "outputs": [],
   "source": []
  }
 ],
 "metadata": {
  "kernelspec": {
   "display_name": "Python 3",
   "language": "python",
   "name": "python3"
  },
  "language_info": {
   "codemirror_mode": {
    "name": "ipython",
    "version": 3
   },
   "file_extension": ".py",
   "mimetype": "text/x-python",
   "name": "python",
   "nbconvert_exporter": "python",
   "pygments_lexer": "ipython3",
   "version": "3.4.3"
  }
 },
 "nbformat": 4,
 "nbformat_minor": 0
}
