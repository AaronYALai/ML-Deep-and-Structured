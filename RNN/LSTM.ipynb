{
 "cells": [
  {
   "cell_type": "code",
   "execution_count": 1,
   "metadata": {
    "collapsed": false
   },
   "outputs": [
    {
     "name": "stdout",
     "output_type": "stream",
     "text": [
      "Data loaded, using 12.356744 seconds\n"
     ]
    }
   ],
   "source": [
    "#Bi-directional RNN, Momentum, NAG, RMSProp, Dropout \n",
    "import theano as th\n",
    "import theano.tensor as T\n",
    "import numpy as np\n",
    "import time\n",
    "from theano.ifelse import ifelse\n",
    "from theano.tensor.shared_randomstreams import RandomStreams\n",
    "from collections import defaultdict\n",
    "\n",
    "start_time = time.clock()\n",
    "Data = np.load('prob_t.npz')\n",
    "Data = Data[Data.files[0]]\n",
    "F = np.load('TrainID.npz')\n",
    "TrainID = F[F.files[0]][0]\n",
    "\n",
    "Label = {}\n",
    "Y = open('train.lab')\n",
    "for line in Y:\n",
    "    line = line.strip().split(',')\n",
    "    Label[line[0]] = line[1]\n",
    "Y.close()\n",
    "\n",
    "#The map from labels to integers(To compute y_hat) \n",
    "lab_index = dict([['aa', 0], ['ae', 1], ['ah', 2], ['ao', 3], ['aw', 4], ['ax', 5], ['ay', 6], ['b', 7], ['ch', 8], \n",
    "               ['cl', 9], ['d', 10], ['dh', 11], ['dx', 12], ['eh', 13], ['el', 14], ['en', 15], ['epi', 16], \n",
    "               ['er', 17], ['ey', 18], ['f', 19], ['g', 20], ['hh', 21], ['ih', 22], ['ix', 23], ['iy', 24], \n",
    "               ['jh', 25], ['k', 26], ['l', 27], ['m', 28], ['ng', 29], ['n', 30], ['ow', 31], ['oy', 32], ['p', 33], \n",
    "               ['r', 34], ['sh', 35], ['sil', 36], ['s', 37], ['th', 38], ['t', 39], ['uh', 40], ['uw', 41], ['vcl', 42],\n",
    "               ['v', 43], ['w', 44], ['y', 45], ['zh', 46], ['z', 47]])\n",
    "\n",
    "def y_hat(i):\n",
    "    \"\"\"give the np array of y_hat\"\"\"\n",
    "    l = np.zeros(48,dtype=np.float32)\n",
    "    l[lab_index[Label[TrainID[i]]]] = 1\n",
    "    return l\n",
    "\n",
    "def make_vector_sequence(Data,TID,have_label=True):\n",
    "    \"\"\"Concatenate vectors into single sequence of an utterance\"\"\"\n",
    "    Dat = defaultdict(list); Y_hat = defaultdict(list)\n",
    "    Number = {}; n = 0; old = ''\n",
    "    for i in range(len(Data)):\n",
    "        ID = '_'.join(TID[i].split('_')[:2])\n",
    "        Dat[ID].append(Data[i])\n",
    "        if have_label:\n",
    "            Y_hat[ID].append(y_hat(i))\n",
    "        if ID != old:\n",
    "            Number[n] = ID\n",
    "            n += 1\n",
    "            old = ID\n",
    "    return Dat, Y_hat, Number\n",
    "\n",
    "def edit(r,h):\n",
    "    \"\"\"edit distance\"\"\"\n",
    "    r = r.split(); h = h.split()\n",
    "    d = np.zeros((len(r)+1)*(len(h)+1), dtype=np.uint8)\n",
    "    d = d.reshape((len(r)+1, len(h)+1))\n",
    "    for i in range(len(r)+1):\n",
    "        for j in range(len(h)+1):\n",
    "                if i == 0:\n",
    "                        d[0][j] = j\n",
    "                elif j == 0:\n",
    "                        d[i][0] = i\n",
    "\n",
    "    for i in range(1, len(r)+1):\n",
    "            for j in range(1, len(h)+1):\n",
    "                    if r[i-1] == h[j-1]:\n",
    "                        d[i][j] = d[i-1][j-1]\n",
    "                    else:\n",
    "                        substitution = d[i-1][j-1] + 1\n",
    "                        insertion    = d[i][j-1] + 1\n",
    "                        deletion     = d[i-1][j] + 1\n",
    "                        d[i][j] = min(substitution, insertion, deletion)\n",
    "    return d[len(r)][len(h)]\n",
    "\n",
    "TrainX, TrainY, Train_Num =  make_vector_sequence(Data,TrainID)\n",
    "Order = np.random.permutation(len(Train_Num))\n",
    "\n",
    "Mapp = open('48_39.map')\n",
    "mapp = Mapp.readlines()\n",
    "Mapp.close()\n",
    "\n",
    "def Map_label(n):\n",
    "    \"\"\"Return label an integer(0-47) corresponds to\"\"\"\n",
    "    for key,val in lab_index.items():\n",
    "        if val == n:\n",
    "            return key\n",
    "    print(\"Worng!\")\n",
    "\n",
    "mapping = {}\n",
    "for line in mapp:\n",
    "    line = line.strip().split('\\t')\n",
    "    mapping[line[0]] = line[1]\n",
    "\n",
    "M = open('48_idx_chr.map_b')\n",
    "mapp = M.readlines()\n",
    "M.close()\n",
    "\n",
    "Map = {}\n",
    "for line in mapp:\n",
    "    line = line.strip().split(' ')\n",
    "    word,_ = line[0].split('\\t')\n",
    "    Map[word] = line[-1]\n",
    "\n",
    "Yval_cache = {}\n",
    "def Valid_Y():\n",
    "    \"\"\"Return Y_hat of the validation set\"\"\"\n",
    "    try:\n",
    "        return Yval_cache[0]\n",
    "    except:\n",
    "        Val_Y = []\n",
    "        for i in range(3000,len(Train_Num)):\n",
    "            yval = ''; last = ''\n",
    "            for l in TrainY[Train_Num[Order[i]]]:\n",
    "                phone = Map[mapping[Map_label(np.argmax(l))]]\n",
    "                if last != phone:\n",
    "                    yval = yval + phone + ' '\n",
    "                last = phone\n",
    "            Val_Y.append(yval[:-1])\n",
    "\n",
    "        Yval_cache[0] = Val_Y\n",
    "        return Val_Y\n",
    "\n",
    "print(\"Data loaded, using %f seconds\"%(time.clock()-start_time))"
   ]
  },
  {
   "cell_type": "code",
   "execution_count": 31,
   "metadata": {
    "collapsed": false
   },
   "outputs": [],
   "source": [
    "def memo(f): \n",
    "    \"\"\"Memoization decorator, Used to accelerate the retrieval\"\"\"\n",
    "    cache = {}\n",
    "    def _f(*args):\n",
    "        try:\n",
    "            return cache[args]\n",
    "        except KeyError:\n",
    "            cache[args] = result = f(*args)\n",
    "            return result\n",
    "        except TypeError: #Some elements of args unhashable\n",
    "            return f(args)\n",
    "    _f.cache = cache\n",
    "    return _f"
   ]
  },
  {
   "cell_type": "code",
   "execution_count": 65,
   "metadata": {
    "collapsed": false
   },
   "outputs": [
    {
     "name": "stdout",
     "output_type": "stream",
     "text": [
      "Model constructed, 62.894350 seconds. Start training...\n"
     ]
    }
   ],
   "source": [
    "#RNN structure\n",
    "st = time.clock()\n",
    "bat = 1 #Batch size\n",
    "learing_rate = 0.0003\n",
    "#srng = RandomStreams(seed=5432)\n",
    "\n",
    "x_seq = T.fmatrix()\n",
    "y_hat = T.fmatrix()\n",
    "ind = T.scalar() #Help to do minibatch\n",
    "\n",
    "cons = 0.001; a=0; s=0.01; neuron = 48\n",
    "a_0 = th.shared(0*np.random.randn(neuron))\n",
    "h_0 = th.shared(0*np.random.randn(neuron))\n",
    "Wi = th.shared(s*np.random.randn(48,neuron)-a)\n",
    "Wf = th.shared(s*np.random.randn(48,neuron)-a)\n",
    "Wo = th.shared(s*np.random.randn(48,neuron)-a)\n",
    "W = th.shared(s*np.random.randn(48,neuron)-a)\n",
    "Ui = th.shared(s*np.random.randn(48,neuron)-a)\n",
    "Uf = th.shared(s*np.random.randn(48,neuron)-a)\n",
    "Uo = th.shared(s*np.random.randn(48,neuron)-a)\n",
    "U = th.shared(s*np.random.randn(48,neuron)-a)\n",
    "Vi = th.shared(s*np.random.randn(48,neuron)-a)\n",
    "Vf = th.shared(s*np.random.randn(48,neuron)-a)\n",
    "Vo = th.shared(s*np.random.randn(48,neuron)-a)\n",
    "\n",
    "bi = th.shared(cons*np.random.randn(neuron))#-a)\n",
    "bf = th.shared(cons*np.random.randn(neuron))#-a)\n",
    "bo = th.shared(cons*np.random.randn(neuron))#-a)\n",
    "b = th.shared(cons*np.random.randn(neuron))#-a)\n",
    "Wout = th.shared(cons*np.random.randn(2*neuron,48)-a)\n",
    "\n",
    "Auxiliary = []; Temp = []\n",
    "parameters = [Wi,Wf,Wo,W,bi,bf,bo,b,U,Ui,Uf,Uo,Vi,Vf,Vo,Wout]\n",
    "for param in parameters:\n",
    "    Auxiliary.append(th.shared(np.zeros(param.get_value().shape)))\n",
    "    Temp.append(th.shared(np.zeros(param.get_value().shape)))\n",
    "    \n",
    "c = 1\n",
    "Wi = th.gradient.grad_clip(Wi,-c,c)\n",
    "bi = th.gradient.grad_clip(bi,-c,c)\n",
    "Wf = th.gradient.grad_clip(Wf,-c,c)\n",
    "bf = th.gradient.grad_clip(bf,-c,c)\n",
    "Wo = th.gradient.grad_clip(Wo,-c,c)\n",
    "bo = th.gradient.grad_clip(bo,-c,c)\n",
    "W = th.gradient.grad_clip(W,-c,c)\n",
    "b = th.gradient.grad_clip(b,-c,c)\n",
    "Ui = th.gradient.grad_clip(Ui,-c,c)\n",
    "Uf = th.gradient.grad_clip(Uf,-c,c)\n",
    "Uo = th.gradient.grad_clip(Uo,-c,c)\n",
    "U = th.gradient.grad_clip(U,-c,c)\n",
    "Vi = th.gradient.grad_clip(Vi,-c,c)\n",
    "Vf = th.gradient.grad_clip(Vf,-c,c)\n",
    "Vo = th.gradient.grad_clip(Vo,-c,c)\n",
    "Wout = th.gradient.grad_clip(Wout,-c,c)\n",
    "\n",
    "def Update_Momentum(para,grad,ind,Momentum,Temp):\n",
    "    \"\"\"theano update, optimized by Momentum\"\"\"\n",
    "    updates = []; off_on = ifelse(T.lt(ind,bat-1),0,1)\n",
    "    for ix in range(len(grad)):\n",
    "        gradient = T.clip(grad[ix],-1,1)#T.clip(grad[ix],np.float32(-0.01),np.float32(0.01))\n",
    "        direction = (0.95)*Momentum[ix] - (learing_rate/bat)*(gradient+Temp[ix])\n",
    "        updates.append((para[ix], para[ix]+direction*off_on))\n",
    "        updates.append((Momentum[ix], Momentum[ix]*(1-off_on)+direction*off_on))\n",
    "        updates.append((Temp[ix], (Temp[ix]+gradient)*(1-off_on)))\n",
    "    return updates\n",
    "\n",
    "def Update_NAG(para,grad,ind,Real,Temp):\n",
    "    \"\"\"theano update, optimized by NAG\"\"\"\n",
    "    updates = []; off_on = ifelse(T.lt(ind,bat-1),0,1)\n",
    "    for ix in range(len(grad)):\n",
    "        grad[ix] = T.clip(grad[ix],-1,1)\n",
    "        gradient = -(learing_rate/bat)*(grad[ix]+Temp[ix])\n",
    "        spy_position = (1+0.95)*(para[ix]+gradient)-0.95*Real[ix]\n",
    "        updates.append((para[ix], (spy_position)*off_on+para[ix]*(1-off_on)))\n",
    "        updates.append((Real[ix], (para[ix]+gradient)*off_on+Real[ix]*(1-off_on)))\n",
    "        updates.append((Temp[ix], (Temp[ix]+grad[ix])*(1-off_on)))\n",
    "    return updates\n",
    "\n",
    "def Update_RMSProp(para,grad,ind,Sigma_square,Temp):\n",
    "    \"\"\"theano update, optimized by RMSProp\"\"\"\n",
    "    updates = []; off_on = ifelse(T.lt(ind,bat-1),0,1); alpha = 0.9\n",
    "    for ix in range(len(grad)):\n",
    "        #grad[ix] = T.clip(grad[ix],-1,1)\n",
    "        gradient = (grad[ix]+Temp[ix])/bat\n",
    "        Factor = Sigma_square[ix]*alpha+(1-alpha)*gradient**2\n",
    "        direction = -(learing_rate)*gradient/T.sqrt(Factor)\n",
    "        updates.append((para[ix], (para[ix]+direction)*off_on+para[ix]*(1-off_on)))\n",
    "        updates.append((Sigma_square[ix], Factor*off_on+Sigma_square[ix]*(1-off_on)))\n",
    "        updates.append((Temp[ix], (Temp[ix]+grad[ix])*(1-off_on)))\n",
    "    return updates\n",
    "\n",
    "def sigmoid(Z):\n",
    "    return 1/(1+T.exp(-Z))\n",
    "\n",
    "def ReLU(Z):\n",
    "    return T.switch(Z<0,0,Z)\n",
    "\n",
    "def tanh(Z):\n",
    "    return T.tanh(Z)\n",
    "\n",
    "def softmax(Z):\n",
    "    z = T.exp(Z)\n",
    "    return (z.T/T.sum(z,axis=1)).T\n",
    "\n",
    "def step(z_t,zi_t,zf_t,zo_t,c_tm1,h_tm1):\n",
    "    Z_t = tanh(z_t + T.dot(h_tm1,U))\n",
    "    Zi_t = sigmoid(zi_t + T.dot(h_tm1,Ui) + T.dot(c_tm1,Vi))\n",
    "    Zf_t = sigmoid(zf_t + T.dot(h_tm1,Uf) + T.dot(c_tm1,Vf)) \n",
    "    c_t = Z_t*Zi_t + c_tm1*Zf_t\n",
    "    Zo_t = sigmoid(zo_t + T.dot(h_tm1,Uo) + T.dot(c_t,Vo))\n",
    "    h_t = tanh(c_t)*Zo_t\n",
    "    return c_t, h_t\n",
    "\n",
    "z_seq = T.dot(x_seq,W)+b.dimshuffle('x',0)\n",
    "zi_seq = T.dot(x_seq,Wi)+bi.dimshuffle('x',0)\n",
    "zo_seq = T.dot(x_seq,Wo)+bo.dimshuffle('x',0)\n",
    "zf_seq = T.dot(x_seq,Wf)+bf.dimshuffle('x',0)\n",
    "\n",
    "[cf_seq,hf_seq],_ = th.scan(step, sequences = [z_seq,zi_seq,zf_seq,zo_seq], \n",
    "                               outputs_info = [a_0,h_0],\n",
    "                              truncate_gradient=-1)\n",
    "\n",
    "[cb_seq,hb_seq],_ = th.scan(step, sequences = [z_seq[::-1],zi_seq[::-1],zf_seq[::-1],zo_seq[::-1]], \n",
    "                               outputs_info = [a_0,h_0],\n",
    "                              truncate_gradient=-1)\n",
    "\n",
    "\n",
    "#h_seq = tanh(c_seq)*zo_seq #Activation fx\n",
    "h_out = T.concatenate([hf_seq,hb_seq[::-1]],axis=1)\n",
    "y_seq = softmax(T.dot(h_out,Wout))\n",
    "forword = th.function(inputs=[x_seq],outputs=y_seq)\n",
    "\n",
    "cost = (1+ind-ind)*T.sum((y_seq-y_hat)**2)\n",
    "valid = th.function(inputs=[x_seq,y_hat,ind],outputs=cost)\n",
    "grads = T.grad(cost,parameters)#,disconnected_inputs='ignore')\n",
    "    \n",
    "rnn_train = th.function(inputs=[x_seq,y_hat,ind],outputs=cost,\n",
    "                       updates=Update_NAG(parameters,grads,ind,Auxiliary,Temp))\n",
    "\n",
    "def Validation():\n",
    "    \"\"\"Calculate the average edit distance on validation set\"\"\"\n",
    "    Valid_X = []\n",
    "    for i in range(3000,len(Train_Num)):\n",
    "        xval = ''; last = ''\n",
    "        for l in forword(TrainX[Train_Num[Order[i]]]):\n",
    "            phone = Map[mapping[Map_label(np.argmax(l))]]\n",
    "            if last != phone:\n",
    "                xval = xval + phone + ' '\n",
    "            last = phone\n",
    "        Valid_X.append(xval[:-1])\n",
    "        \n",
    "    Valid_Yhat = Valid_Y()\n",
    "    return np.mean([edit(Valid_X[i] ,Valid_Yhat[i]) for i in range(len(Valid_X))]).astype(np.float32)\n",
    "\n",
    "def Valid_Cost():\n",
    "    \"\"\"Calculate the cost of the validation set\"\"\"\n",
    "    N = 0;C = 0\n",
    "    for i in range(3000,len(Train_Num)):\n",
    "        C += valid(TrainX[Train_Num[Order[i]]],TrainY[Train_Num[Order[i]]],1)\n",
    "        N += len(TrainX[Train_Num[Order[i]]])\n",
    "    return C/N\n",
    "\n",
    "def Permutate(n):\n",
    "    \"\"\"Auxiliary function for making batch of each epoch\"\"\"\n",
    "    s = np.random.permutation(n)\n",
    "    for i in range(n):\n",
    "        yield s[i]\n",
    "\n",
    "print(\"Model constructed, %f seconds. Start training...\"%(time.clock()-st))"
   ]
  },
  {
   "cell_type": "code",
   "execution_count": 66,
   "metadata": {
    "collapsed": false,
    "scrolled": true
   },
   "outputs": [
    {
     "name": "stdout",
     "output_type": "stream",
     "text": [
      "Cost on last 500 data: 0.826926 ; Validation Cost: 0.542577\n",
      "Cost on last 500 data: 0.389649 ; Validation Cost: 0.331017\n",
      "Cost on last 500 data: 0.303631 ; Validation Cost: 0.298387\n",
      "1 Epoch(s) trained, 607.798098 seconds passed from start.\n",
      "Cost on last 500 data: 0.283604 ; Validation Cost: 0.282495\n",
      "Cost on last 500 data: 0.271838 ; Validation Cost: 0.272404\n",
      "Cost on last 500 data: 0.267240 ; Validation Cost: 0.269673\n",
      "2 Epoch(s) trained, 1115.387328 seconds passed from start.\n",
      "Cost on last 500 data: 0.266441 ; Validation Cost: 0.265252\n",
      "Cost on last 500 data: 0.260728 ; Validation Cost: 0.262540\n",
      "Cost on last 500 data: 0.254915 ; Validation Cost: 0.263539\n",
      "3 Epoch(s) trained, 1621.945158 seconds passed from start.\n",
      "Cost on last 500 data: 0.257407 ; Validation Cost: 0.260880\n",
      "Edit distance on Validation Set: 10.262931\n"
     ]
    },
    {
     "ename": "KeyboardInterrupt",
     "evalue": "",
     "output_type": "error",
     "traceback": [
      "\u001b[1;31m---------------------------------------------------------------------------\u001b[0m",
      "\u001b[1;31mKeyboardInterrupt\u001b[0m                         Traceback (most recent call last)",
      "\u001b[1;32m<ipython-input-66-de70ac97f047>\u001b[0m in \u001b[0;36m<module>\u001b[1;34m()\u001b[0m\n\u001b[0;32m      5\u001b[0m     \u001b[1;32mfor\u001b[0m \u001b[0mi\u001b[0m \u001b[1;32min\u001b[0m \u001b[0mrange\u001b[0m\u001b[1;33m(\u001b[0m\u001b[1;36m3000\u001b[0m\u001b[1;33m)\u001b[0m\u001b[1;33m:\u001b[0m\u001b[1;33m\u001b[0m\u001b[0m\n\u001b[0;32m      6\u001b[0m         \u001b[0mindex\u001b[0m \u001b[1;33m=\u001b[0m \u001b[0mnext\u001b[0m\u001b[1;33m(\u001b[0m\u001b[0mV\u001b[0m\u001b[1;33m)\u001b[0m\u001b[1;33m\u001b[0m\u001b[0m\n\u001b[1;32m----> 7\u001b[1;33m         \u001b[0mC\u001b[0m \u001b[1;33m+=\u001b[0m \u001b[0mrnn_train\u001b[0m\u001b[1;33m(\u001b[0m\u001b[0mTrainX\u001b[0m\u001b[1;33m[\u001b[0m\u001b[0mTrain_Num\u001b[0m\u001b[1;33m[\u001b[0m\u001b[0mOrder\u001b[0m\u001b[1;33m[\u001b[0m\u001b[0mindex\u001b[0m\u001b[1;33m]\u001b[0m\u001b[1;33m]\u001b[0m\u001b[1;33m]\u001b[0m\u001b[1;33m,\u001b[0m\u001b[0mTrainY\u001b[0m\u001b[1;33m[\u001b[0m\u001b[0mTrain_Num\u001b[0m\u001b[1;33m[\u001b[0m\u001b[0mOrder\u001b[0m\u001b[1;33m[\u001b[0m\u001b[0mindex\u001b[0m\u001b[1;33m]\u001b[0m\u001b[1;33m]\u001b[0m\u001b[1;33m]\u001b[0m\u001b[1;33m,\u001b[0m\u001b[0mbatch\u001b[0m\u001b[1;33m)\u001b[0m\u001b[1;33m\u001b[0m\u001b[0m\n\u001b[0m\u001b[0;32m      8\u001b[0m         \u001b[0mN\u001b[0m \u001b[1;33m+=\u001b[0m \u001b[0mlen\u001b[0m\u001b[1;33m(\u001b[0m\u001b[0mTrainX\u001b[0m\u001b[1;33m[\u001b[0m\u001b[0mTrain_Num\u001b[0m\u001b[1;33m[\u001b[0m\u001b[0mOrder\u001b[0m\u001b[1;33m[\u001b[0m\u001b[0mindex\u001b[0m\u001b[1;33m]\u001b[0m\u001b[1;33m]\u001b[0m\u001b[1;33m]\u001b[0m\u001b[1;33m)\u001b[0m\u001b[1;33m\u001b[0m\u001b[0m\n\u001b[0;32m      9\u001b[0m         \u001b[0mCost\u001b[0m\u001b[1;33m.\u001b[0m\u001b[0mappend\u001b[0m\u001b[1;33m(\u001b[0m\u001b[0mC\u001b[0m\u001b[1;33m/\u001b[0m\u001b[0mN\u001b[0m\u001b[1;33m)\u001b[0m\u001b[1;33m\u001b[0m\u001b[0m\n",
      "\u001b[1;32m/home/aaron/anaconda3/lib/python3.4/site-packages/theano/compile/function_module.py\u001b[0m in \u001b[0;36m__call__\u001b[1;34m(self, *args, **kwargs)\u001b[0m\n\u001b[0;32m    593\u001b[0m         \u001b[0mt0_fn\u001b[0m \u001b[1;33m=\u001b[0m \u001b[0mtime\u001b[0m\u001b[1;33m.\u001b[0m\u001b[0mtime\u001b[0m\u001b[1;33m(\u001b[0m\u001b[1;33m)\u001b[0m\u001b[1;33m\u001b[0m\u001b[0m\n\u001b[0;32m    594\u001b[0m         \u001b[1;32mtry\u001b[0m\u001b[1;33m:\u001b[0m\u001b[1;33m\u001b[0m\u001b[0m\n\u001b[1;32m--> 595\u001b[1;33m             \u001b[0moutputs\u001b[0m \u001b[1;33m=\u001b[0m \u001b[0mself\u001b[0m\u001b[1;33m.\u001b[0m\u001b[0mfn\u001b[0m\u001b[1;33m(\u001b[0m\u001b[1;33m)\u001b[0m\u001b[1;33m\u001b[0m\u001b[0m\n\u001b[0m\u001b[0;32m    596\u001b[0m         \u001b[1;32mexcept\u001b[0m \u001b[0mException\u001b[0m\u001b[1;33m:\u001b[0m\u001b[1;33m\u001b[0m\u001b[0m\n\u001b[0;32m    597\u001b[0m             \u001b[1;32mif\u001b[0m \u001b[0mhasattr\u001b[0m\u001b[1;33m(\u001b[0m\u001b[0mself\u001b[0m\u001b[1;33m.\u001b[0m\u001b[0mfn\u001b[0m\u001b[1;33m,\u001b[0m \u001b[1;34m'position_of_error'\u001b[0m\u001b[1;33m)\u001b[0m\u001b[1;33m:\u001b[0m\u001b[1;33m\u001b[0m\u001b[0m\n",
      "\u001b[1;32m/home/aaron/anaconda3/lib/python3.4/site-packages/theano/scan_module/scan_op.py\u001b[0m in \u001b[0;36mrval\u001b[1;34m(p, i, o, n, allow_gc)\u001b[0m\n\u001b[0;32m    670\u001b[0m         def rval(p=p, i=node_input_storage, o=node_output_storage, n=node,\n\u001b[0;32m    671\u001b[0m                  allow_gc=allow_gc):\n\u001b[1;32m--> 672\u001b[1;33m             \u001b[0mr\u001b[0m \u001b[1;33m=\u001b[0m \u001b[0mp\u001b[0m\u001b[1;33m(\u001b[0m\u001b[0mn\u001b[0m\u001b[1;33m,\u001b[0m \u001b[1;33m[\u001b[0m\u001b[0mx\u001b[0m\u001b[1;33m[\u001b[0m\u001b[1;36m0\u001b[0m\u001b[1;33m]\u001b[0m \u001b[1;32mfor\u001b[0m \u001b[0mx\u001b[0m \u001b[1;32min\u001b[0m \u001b[0mi\u001b[0m\u001b[1;33m]\u001b[0m\u001b[1;33m,\u001b[0m \u001b[0mo\u001b[0m\u001b[1;33m)\u001b[0m\u001b[1;33m\u001b[0m\u001b[0m\n\u001b[0m\u001b[0;32m    673\u001b[0m             \u001b[1;32mfor\u001b[0m \u001b[0mo\u001b[0m \u001b[1;32min\u001b[0m \u001b[0mnode\u001b[0m\u001b[1;33m.\u001b[0m\u001b[0moutputs\u001b[0m\u001b[1;33m:\u001b[0m\u001b[1;33m\u001b[0m\u001b[0m\n\u001b[0;32m    674\u001b[0m                 \u001b[0mcompute_map\u001b[0m\u001b[1;33m[\u001b[0m\u001b[0mo\u001b[0m\u001b[1;33m]\u001b[0m\u001b[1;33m[\u001b[0m\u001b[1;36m0\u001b[0m\u001b[1;33m]\u001b[0m \u001b[1;33m=\u001b[0m \u001b[1;32mTrue\u001b[0m\u001b[1;33m\u001b[0m\u001b[0m\n",
      "\u001b[1;32m/home/aaron/anaconda3/lib/python3.4/site-packages/theano/scan_module/scan_op.py\u001b[0m in \u001b[0;36m<lambda>\u001b[1;34m(node, args, outs)\u001b[0m\n\u001b[0;32m    659\u001b[0m                         \u001b[0margs\u001b[0m\u001b[1;33m,\u001b[0m\u001b[1;33m\u001b[0m\u001b[0m\n\u001b[0;32m    660\u001b[0m                         \u001b[0mouts\u001b[0m\u001b[1;33m,\u001b[0m\u001b[1;33m\u001b[0m\u001b[0m\n\u001b[1;32m--> 661\u001b[1;33m                         self, node)\n\u001b[0m\u001b[0;32m    662\u001b[0m         \u001b[1;32mexcept\u001b[0m \u001b[1;33m(\u001b[0m\u001b[0mImportError\u001b[0m\u001b[1;33m,\u001b[0m \u001b[0mtheano\u001b[0m\u001b[1;33m.\u001b[0m\u001b[0mgof\u001b[0m\u001b[1;33m.\u001b[0m\u001b[0mcmodule\u001b[0m\u001b[1;33m.\u001b[0m\u001b[0mMissingGXX\u001b[0m\u001b[1;33m)\u001b[0m\u001b[1;33m:\u001b[0m\u001b[1;33m\u001b[0m\u001b[0m\n\u001b[0;32m    663\u001b[0m             \u001b[0mp\u001b[0m \u001b[1;33m=\u001b[0m \u001b[0mself\u001b[0m\u001b[1;33m.\u001b[0m\u001b[0mexecute\u001b[0m\u001b[1;33m\u001b[0m\u001b[0m\n",
      "\u001b[1;32mscan_perform.pyx\u001b[0m in \u001b[0;36mtheano.scan_module.scan_perform.perform (/home/aaron/.theano/compiledir_Linux-3.16--generic-x86_64-with-debian-jessie-sid-x86_64-3.4.3-64/scan_perform/mod.cpp:4585)\u001b[1;34m()\u001b[0m\n",
      "\u001b[1;32m/home/aaron/anaconda3/lib/python3.4/site-packages/theano/tensor/type.py\u001b[0m in \u001b[0;36mvalue_zeros\u001b[1;34m(self, shape)\u001b[0m\n\u001b[0;32m    577\u001b[0m             \u001b[1;32mreturn\u001b[0m \u001b[1;33m(\u001b[0m\u001b[1;33m)\u001b[0m\u001b[1;33m\u001b[0m\u001b[0m\n\u001b[0;32m    578\u001b[0m \u001b[1;33m\u001b[0m\u001b[0m\n\u001b[1;32m--> 579\u001b[1;33m     \u001b[1;32mdef\u001b[0m \u001b[0mvalue_zeros\u001b[0m\u001b[1;33m(\u001b[0m\u001b[0mself\u001b[0m\u001b[1;33m,\u001b[0m \u001b[0mshape\u001b[0m\u001b[1;33m)\u001b[0m\u001b[1;33m:\u001b[0m\u001b[1;33m\u001b[0m\u001b[0m\n\u001b[0m\u001b[0;32m    580\u001b[0m         \"\"\"\n\u001b[0;32m    581\u001b[0m         \u001b[0mCreate\u001b[0m \u001b[0man\u001b[0m \u001b[0mnumpy\u001b[0m \u001b[0mndarray\u001b[0m \u001b[0mfull\u001b[0m \u001b[0mof\u001b[0m \u001b[1;36m0\u001b[0m \u001b[0mvalues\u001b[0m\u001b[1;33m.\u001b[0m\u001b[1;33m\u001b[0m\u001b[0m\n",
      "\u001b[1;31mKeyboardInterrupt\u001b[0m: "
     ]
    }
   ],
   "source": [
    "Record=[]; Cost = []; Valid_C = []\n",
    "for j in range(5):\n",
    "    C = 0; N = 0; batch = 0\n",
    "    V = Permutate(3000)\n",
    "    for i in range(3000):\n",
    "        index = next(V)\n",
    "        C += rnn_train(TrainX[Train_Num[Order[index]]],TrainY[Train_Num[Order[index]]],batch)\n",
    "        N += len(TrainX[Train_Num[Order[index]]])\n",
    "        Cost.append(C/N)\n",
    "        if i%1000 == 999:\n",
    "            Valid_C.append(Valid_Cost())\n",
    "            print('Cost on last 500 data: %f ; Validation Cost: %f'%(C/N,Valid_C[-1]))\n",
    "            Cost.append(C/N)\n",
    "            C = 0; N = 0\n",
    "            if j > 2:\n",
    "                val = Validation()\n",
    "                Record.append(val);\n",
    "                print(\"Edit distance on Validation Set: %f\" %(val))\n",
    "                #if len(Record)>1 and Record[-2]+0.5 <= Record[-1]:\n",
    "                #    break\n",
    "\n",
    "        batch = batch+1 if batch != (b-1) else 0\n",
    "\n",
    "    print('%d Epoch(s) trained, %f seconds passed from start.'%((j+1),time.clock()-st))\n",
    "\n",
    "end = time.clock()\n",
    "print(\"Done training. Using %f seconds.\" % (end-st))"
   ]
  },
  {
   "cell_type": "code",
   "execution_count": 47,
   "metadata": {
    "collapsed": false,
    "scrolled": true
   },
   "outputs": [
    {
     "name": "stdout",
     "output_type": "stream",
     "text": [
      "[-0.03031922 -0.00896652 -0.04610721  0.00114931  0.01038847  0.03677539\n",
      " -0.01623452 -0.00244345 -0.03500159  0.00512231 -0.02448314  0.01499262\n",
      " -0.01518107 -0.01478786 -0.031878   -0.02602983 -0.0806889  -0.02307395\n",
      " -0.05422282 -0.01698176 -0.02443402 -0.10854217  0.02275301  0.01464971\n",
      " -0.07647514 -0.00952107  0.00121854 -0.03459153 -0.00845662  0.07246861\n",
      "  0.00202495 -0.02043375 -0.00372034 -0.02571461 -0.0517583  -0.00769627\n",
      " -0.05449623 -0.02413856  0.01632802 -0.01289991 -0.01152584 -0.02617913\n",
      " -0.02012688  0.01134824  0.07088754 -0.0300216   0.01518087 -0.01884781]\n",
      "[ 0.01840873 -0.04506408 -0.03225727 -0.02457726 -0.01054587  0.07105033\n",
      " -0.02647904  0.00960216 -0.13177959  0.00462283 -0.04071114 -0.02119263\n",
      " -0.0024936   0.01002471 -0.02616096 -0.09517996 -0.17923953 -0.03276022\n",
      " -0.02494835 -0.05108738 -0.00678804 -0.03981128 -0.09293015 -0.01156586\n",
      " -0.08032261 -0.01682596 -0.01608126 -0.05025982 -0.03540987  0.09420903\n",
      " -0.02082255 -0.09863153 -0.00490759 -0.03355314 -0.05615537 -0.03305474\n",
      " -0.08303161 -0.06456706 -0.03153952 -0.04689374 -0.07393734 -0.12720066\n",
      "  0.02061008 -0.00048632  0.30237943 -0.04264327 -0.01202385 -0.03117468]\n",
      "[ -9.42236171e-02   4.69342556e-03  -6.07334108e-02  -6.70617058e-03\n",
      "  -2.26791547e-02   3.43272255e-02  -2.98373565e-02   5.82687194e-03\n",
      "  -6.13713399e-02  -3.07853497e-04  -3.20434452e-02   1.68892144e-02\n",
      "   5.45759283e-05   2.06627143e-03  -1.73551691e-02  -4.65954343e-02\n",
      "  -4.35612784e-02  -2.97362657e-03   2.54900957e-04  -6.05462060e-03\n",
      "  -1.60361086e-02  -1.61863795e-01   2.70430110e-02   5.96777576e-03\n",
      "  -9.32610713e-02  -1.96007611e-02  -3.83909691e-03  -6.34258146e-02\n",
      "  -1.14230211e-02  -2.78828578e-02   2.22706701e-03  -3.65514145e-02\n",
      "   1.70303440e-02  -3.60195071e-02  -3.06272831e-02   1.19781402e-02\n",
      "   1.13682658e-02  -9.92846304e-02  -4.34502947e-03  -3.84255050e-02\n",
      "  -5.50013530e-03  -6.97606321e-02  -4.84568910e-04   1.28861802e-02\n",
      "   7.30065763e-02   9.63517335e-03   1.33413794e-02   5.52257145e-02]\n",
      "[ 0.11502967 -0.10333958 -0.04600832  0.91506686 -0.32983357  1.31108202\n",
      " -1.82834851 -1.18361888 -0.61067738 -1.05073045 -0.01982586 -1.5926941\n",
      "  0.02967407  1.26202907 -1.31956881 -0.52188385  0.52890295  0.18856224\n",
      "  1.03164326 -0.64171057 -0.12464752  1.56198556  0.31788718  0.23996664\n",
      " -0.13498685  0.70259777  0.14942189 -0.06863627  0.04826046 -1.36788707\n",
      " -0.30313181  0.30308166 -0.99927804 -0.21132586  0.06045172 -0.32636432\n",
      " -0.31708169  0.10994281  0.27270942  0.29743127  0.00630115 -0.30454493\n",
      "  0.77861709 -1.3193606  -1.48429563 -0.0349533   0.13934955 -0.14651751]\n",
      "0.0289770336154\n",
      "-0.158738242023\n",
      "0.0251046281527\n",
      "-0.119744074811\n",
      "[ 0.09669513  0.34653772  0.07560881 -0.38498708 -0.32305047  0.28939367\n",
      "  0.01321795 -0.07148782  0.45334282 -0.09925363 -0.14879083  0.07208398\n",
      "  0.07939033  0.09838032 -0.16761617  0.0637485  -0.12478528 -0.03763834\n",
      "  0.04784868  0.05972642  0.13482234 -0.30548748  0.02434635  0.01962569\n",
      "  0.08075059 -0.10913684 -0.15651717  0.23823811  0.08775848 -0.27254479\n",
      " -0.00490145 -0.24504332  0.07336349 -0.09123024 -0.08413345 -0.01723114\n",
      "  0.01384184  0.28653168  0.15697743  0.15397395  0.09695949  0.21707903\n",
      " -0.12687611  0.34289094  0.07117252  0.00424214  0.02728434 -0.14274611]\n",
      "[-0.02357487  0.06546553  0.0568741   0.03629883 -0.07284256  0.08657884\n",
      " -0.011352    0.00346262 -0.00293859  0.016378   -0.06370524 -0.0107084\n",
      " -0.01214657 -0.0144294   0.67544233  0.00306781  0.06419532 -0.03520751\n",
      "  0.13168553 -0.02952828 -0.31290432  0.03658104  0.1752571  -0.05811887\n",
      "  0.04443408 -0.04673731  0.22891753 -0.03215471 -0.02010851 -0.03255645\n",
      " -0.09506204  0.17065871 -0.03414749 -0.03349451  0.01150585  0.00179255\n",
      "  0.26237806 -0.11733496  0.04206587 -0.02279995 -0.08105735  0.02575122\n",
      "  0.063084    0.00287219  0.10360195 -0.09313286  0.18733103 -0.0477344 ]\n",
      "[-0.13497909  0.0117092  -0.05435645  0.02423092 -0.11614288  0.12493447\n",
      "  0.04180651  0.07270882  0.32455812  0.04812076 -0.12136476 -0.04981483\n",
      " -0.05020508  0.04172754  0.10286328  0.03292456  0.00329875 -0.03555897\n",
      "  0.07406838  0.04577321  0.22984146  0.15799115  0.35107939 -0.01684056\n",
      " -0.14107625  0.00559081  0.17431453 -0.11962655 -0.05656628  0.17554617\n",
      " -0.05319614 -0.01053708  0.09740937  0.03838551  0.00280069 -0.01115456\n",
      " -0.02360883 -0.15224178  0.03358491 -0.07881348  0.01923361 -0.1665067\n",
      "  0.05449001 -0.01657323  0.19512014  0.35005494 -0.00116656  0.04332972]\n",
      "[  1.25420562e-01   2.05903266e-02   1.57819936e-04  -6.38412840e-03\n",
      "  -9.77864200e-02   6.65034762e-02  -1.22341166e-02   1.04420415e-02\n",
      "   7.56885985e-02   5.33580486e-03  -2.95505645e-02  -6.28340036e-02\n",
      "   6.70005855e-02   8.32463982e-03   2.73653381e-01   2.09786694e-02\n",
      "  -3.38753420e-02  -3.99660489e-02   6.26849418e-02  -1.38725997e-02\n",
      "  -1.00471860e-01   1.28483500e-02   8.05545124e-02  -7.55838894e-02\n",
      "  -3.40742829e-02  -7.47442593e-02   2.09778321e-02  -8.90365068e-02\n",
      "  -6.88100073e-03   3.16592262e-02  -8.18005125e-02   1.80882149e-01\n",
      "  -4.63968562e-02  -4.12755634e-02  -2.76241656e-02  -5.22867313e-02\n",
      "   1.09498541e-02  -2.69747957e-01  -6.24141012e-03  -4.18061274e-02\n",
      "  -2.43386106e-02   2.09161637e-02   2.86629158e-02  -6.25504567e-03\n",
      "   3.31511953e-02  -6.50837431e-02  -2.51935775e-02  -8.90873385e-02]\n",
      "[-0.06892232  0.07471214  0.06832259 -0.05661825 -0.17121482  0.17511131\n",
      " -0.07447465  0.00726801 -0.15168727 -0.01798646 -0.11621986 -0.06532734\n",
      " -0.10070737  0.02876284  0.05317412  0.0801272   0.16125133 -0.06030862\n",
      " -0.01378898 -0.03266604 -0.23092524 -0.06620811  0.0429021  -0.14106336\n",
      " -0.1318307  -0.11520402  0.22717032 -0.05564553  0.00369946 -0.05047102\n",
      " -0.17810239 -0.08253946  0.02116153 -0.00139038 -0.12717468 -0.05248985\n",
      "  0.31059333 -0.21670314  0.09763023  0.01839426 -0.15624506  0.07025961\n",
      "  0.03832218  0.02522391  0.03312941 -0.0836349   0.17690304 -0.09276789]\n",
      "[ 0.07576499  0.03643091 -0.03091849 -0.04548808 -0.06307203  0.24371158\n",
      "  0.05600864  0.11759416  0.03862412  0.14465618 -0.21055663 -0.04573626\n",
      " -0.15025846  0.13467112  0.05937618  0.11573472 -0.10153618  0.05096136\n",
      "  0.07473889  0.11002034  0.42870864  0.01493232 -0.24038999  0.05731998\n",
      " -0.37867669  0.00679696  0.19901442 -0.12823843 -0.0600354   0.24216228\n",
      " -0.077112   -0.02245983  0.14604488  0.11129252 -0.09836763 -0.01193174\n",
      " -0.02288013 -0.00484226  0.19388324 -0.04517613  0.12942823 -0.137298\n",
      "  0.12526525  0.0328179   0.03099772  0.30869538  0.10455938  0.06711844]\n",
      "[ 0.2590162  -0.10108449 -0.05466987 -0.06535023 -0.25154018  0.00285089\n",
      " -0.05726615 -0.08064768  0.15355432 -0.05988097 -0.07216037 -0.04963942\n",
      "  0.17281425  0.01808033 -0.13847889  0.06422177 -0.04437409 -0.08033892\n",
      "  0.05564424 -0.03199508 -0.15258056 -0.09229572  0.16599197 -0.22204066\n",
      "  0.0038412  -0.08145399  0.13938178 -0.21421704  0.01783772 -0.01927296\n",
      " -0.18072892 -0.0729847  -0.07299021 -0.10882182 -0.0084828  -0.1365441\n",
      "  0.02854456 -0.27047011 -0.01355041 -0.12353362 -0.10153017 -0.10849246\n",
      " -0.05592658 -0.01623797 -0.03150464 -0.05742104  0.1010235  -0.15886148]\n",
      "[ 0.17355931  1.04990147 -0.14664947  0.13813206  0.08869972 -0.26944951\n",
      "  0.10329632  0.12139829  0.85746443  0.37268124  0.08931462 -0.41309015\n",
      " -0.20161759  0.95106483 -0.54493082 -0.81756422 -0.02907935  0.72833252\n",
      " -0.04352252  0.46681054 -0.25429142 -0.12056357 -0.23917385  0.11604415\n",
      "  0.38719027 -0.50582177  0.68451195 -0.15811856  0.28925584 -0.15491048\n",
      "  0.53041231  0.23541302 -0.64068213  1.5486672   0.59346888 -0.05011923\n",
      " -0.07295452  0.44979061 -0.42196006  0.85941767  0.15175658  0.13316381\n",
      " -0.10759979 -0.30383742  0.11771948 -0.32771352  0.19202238  0.12034865]\n"
     ]
    }
   ],
   "source": [
    "for w in parameters:\n",
    "    print(w.get_value()[0])"
   ]
  },
  {
   "cell_type": "code",
   "execution_count": 61,
   "metadata": {
    "collapsed": false
   },
   "outputs": [
    {
     "data": {
      "text/plain": [
       "[<matplotlib.lines.Line2D at 0x7fde9a478a90>]"
      ]
     },
     "execution_count": 61,
     "metadata": {},
     "output_type": "execute_result"
    },
    {
     "data": {
      "image/png": "[encoded data removed]",
      "text/plain": [
       "<matplotlib.figure.Figure at 0x7fdebea47128>"
      ]
     },
     "metadata": {},
     "output_type": "display_data"
    },
    {
     "data": {
      "image/png": "[encoded data removed]",
      "text/plain": [
       "<matplotlib.figure.Figure at 0x7fdea6a41780>"
      ]
     },
     "metadata": {},
     "output_type": "display_data"
    }
   ],
   "source": [
    "import matplotlib.pyplot as plt\n",
    "%matplotlib inline\n",
    "#plt.plot(Record)\n",
    "plt.plot(Cost,color='red')\n",
    "plt.figure()\n",
    "plt.plot(Valid_C,color='blue')"
   ]
  },
  {
   "cell_type": "code",
   "execution_count": 62,
   "metadata": {
    "collapsed": false
   },
   "outputs": [
    {
     "name": "stdout",
     "output_type": "stream",
     "text": [
      "Start predicting...\n",
      "Before sanity check:\n",
      " ['sil', 'sil', 'sil', 'sil', 'sil', 'sil', 'sil', 'sil', 'sil', 'sil', 'sil', 'b', 'b', 'b', 'b', 'b', 'r', 'r', 'r', 'r', 'r', 'r', 'r', 'r', 'ih', 'ih', 'ih', 'ih', 'ih', 'sil', 'sil', 'sil', 'sil', 'sil', 'k', 'k', 'k', 'k', 'k', 's', 's', 's', 's', 's', 's', 's', 's', 'z', 'z', 'z', 'z', 'z', 'z', 'aa', 'aa', 'aa', 'aa', 'aa', 'aa', 'aa', 'aa', 'aa', 'aa', 'aa', 'aa', 'r', 'r', 'r', 'r', 'r', 'r', 'r', 'r', 'ih', 'ih', 'n', 'n', 'n', 'n', 'n', 'n', 'n', 'l', 'l', 'l', 'l', 'l', 'l', 'l', 'l', 'l', 'l', 'l', 'l', 'l', 'l', 'sil', 'sil', 'sil', 'th', 'th', 'th', 'th', 'th', 'th', 'th', 'th', 'th', 'er', 'er', 'er', 'er', 'er', 'er', 'er', 'er', 'er', 'er', 'er', 'n', 'n', 'n', 'n', 'ih', 'ih', 'ih', 'ih', 'ah', 'ih', 'sil', 'sil', 'sil', 't', 't', 't', 't', 't', 't', 't', 't', 'ih', 'ih', 'ih', 'ih', 'ih', 'ih', 'ih', 'ih', 'ih', 'ih', 'ih', 'v', 'v', 'v', 'v', 'v', 'v', 'v', 'v', 'v', 'v', 'v', 'v', 'v', 'z', 'z', 'z', 'sil', 'sil', 'sil', 'sil', 'sil', 'sil', 'sil', 'sil', 'sil', 'sil', 'sil', 'sil', 'sil']\n",
      "After sanity check:\n",
      " ['sil', 'sil', 'sil', 'sil', 'sil', 'sil', 'sil', 'sil', 'sil', 'sil', 'sil', 'b', 'b', 'b', 'b', 'b', 'r', 'r', 'r', 'r', 'r', 'r', 'r', 'r', 'ih', 'ih', 'ih', 'ih', 'ih', 'sil', 'sil', 'sil', 'sil', 'sil', 'k', 'k', 'k', 'k', 'k', 's', 's', 's', 's', 's', 's', 's', 's', 'z', 'z', 'z', 'z', 'z', 'z', 'aa', 'aa', 'aa', 'aa', 'aa', 'aa', 'aa', 'aa', 'aa', 'aa', 'aa', 'aa', 'r', 'r', 'r', 'r', 'r', 'r', 'r', 'r', 'ih', 'ih', 'n', 'n', 'n', 'n', 'n', 'n', 'n', 'l', 'l', 'l', 'l', 'l', 'l', 'l', 'l', 'l', 'l', 'l', 'l', 'l', 'l', 'sil', 'sil', 'sil', 'th', 'th', 'th', 'th', 'th', 'th', 'th', 'th', 'th', 'er', 'er', 'er', 'er', 'er', 'er', 'er', 'er', 'er', 'er', 'er', 'n', 'n', 'n', 'n', 'ih', 'ih', 'ih', 'ih', 'ih', 'ih', 'sil', 'sil', 'sil', 't', 't', 't', 't', 't', 't', 't', 't', 'ih', 'ih', 'ih', 'ih', 'ih', 'ih', 'ih', 'ih', 'ih', 'ih', 'ih', 'v', 'v', 'v', 'v', 'v', 'v', 'v', 'v', 'v', 'v', 'v', 'v', 'v', 'z', 'z', 'z', 'sil', 'sil', 'sil', 'sil', 'sil', 'sil', 'sil', 'sil', 'sil', 'sil', 'sil', 'sil', 'sil']\n"
     ]
    }
   ],
   "source": [
    "print(\"Start predicting...\")\n",
    "\n",
    "Test = np.load('prob.out.npz')\n",
    "Test = Test[Test.files[0]]\n",
    "TID = np.load('TestID.npz')\n",
    "TestID = TID[TID.files[0]][0]\n",
    "\n",
    "TestD , _ , Test_Num = make_vector_sequence(Test,TestID,False)\n",
    "Prediction = []\n",
    "for i in range(len(Test_Num)):\n",
    "    pre = []\n",
    "    for l in forword(TestD[Test_Num[i]]):\n",
    "        pre.append(mapping[Map_label(np.argmax(l))])\n",
    "    Prediction.append(pre)\n",
    "\n",
    "def check(L,i):\n",
    "    if L[i-1] == L[i+1] and L[i] != L[i-1]: #front == behind != me\n",
    "        return True\n",
    "    elif L[i]!= L[i+1] and L[i]!= L[i-1]:  # me, front, behind are different \n",
    "        return True\n",
    "    else:\n",
    "        return False\n",
    "\n",
    "print(\"Before sanity check:\\n\",Prediction[0])\n",
    "for inde, pred in enumerate(Prediction):\n",
    "    for i in range(1,len(pred)-1):\n",
    "        if check(pred,i):\n",
    "            pred[i] = pred[i-1]\n",
    "    Prediction[j] = pred\n",
    "\n",
    "print(\"After sanity check:\\n\",Prediction[0])"
   ]
  },
  {
   "cell_type": "code",
   "execution_count": 64,
   "metadata": {
    "collapsed": false
   },
   "outputs": [
    {
     "name": "stdout",
     "output_type": "stream",
     "text": [
      "All Done.\n"
     ]
    }
   ],
   "source": [
    "import csv\n",
    "csvfile = open('VbiLSTM.csv','w',newline='')\n",
    "write = csv.writer(csvfile, delimiter=',')\n",
    "write.writerow(['id','phone_sequence'])\n",
    "\n",
    "for ind, pre in enumerate(Prediction):\n",
    "    predict = ''; last = ''\n",
    "    for phone in pre:\n",
    "        if last != phone:\n",
    "            predict = predict + Map[phone]\n",
    "        last = phone\n",
    "    write.writerow([Test_Num[ind],predict[1:-1]])\n",
    "    \n",
    "print(\"All Done.\")"
   ]
  },
  {
   "cell_type": "markdown",
   "metadata": {},
   "source": [
    "<h3 align=\"center\">Testing Ground</h3> "
   ]
  },
  {
   "cell_type": "code",
   "execution_count": 28,
   "metadata": {
    "collapsed": false
   },
   "outputs": [
    {
     "name": "stdout",
     "output_type": "stream",
     "text": [
      "here\n"
     ]
    },
    {
     "data": {
      "text/plain": [
       "array(3.0)"
      ]
     },
     "execution_count": 28,
     "metadata": {},
     "output_type": "execute_result"
    }
   ],
   "source": [
    "zzzz = th.shared(3)\n",
    "xx = T.scalar()\n",
    "def ff(xx):\n",
    "    #test()\n",
    "    return xx\n",
    "\n",
    "def Up(xx,zzzz):\n",
    "    test()\n",
    "    return [(zzzz,zzzz)]\n",
    "DD = th.function([xx],ff(xx),updates=Up(xx,zzzz))\n",
    "\n",
    "DD(3)"
   ]
  },
  {
   "cell_type": "code",
   "execution_count": 9,
   "metadata": {
    "collapsed": false
   },
   "outputs": [
    {
     "name": "stderr",
     "output_type": "stream",
     "text": [
      "/Users/aaronlai/anaconda/lib/python3.4/importlib/_bootstrap.py:321: RuntimeWarning: numpy.ndarray size changed, may indicate binary incompatibility\n",
      "  return f(*args, **kwds)\n"
     ]
    },
    {
     "data": {
      "text/plain": [
       "array([ 10.,  61.,  61.,  10.])"
      ]
     },
     "execution_count": 9,
     "metadata": {},
     "output_type": "execute_result"
    }
   ],
   "source": [
    "#Test About Bi-Direction\n",
    "A = T.matrix()\n",
    "resu,_ = th.scan(lambda a,b: T.dot(a,b),sequences=[A,A[::-1]])\n",
    "f = th.function(inputs=[A],outputs=resu)\n",
    "\n",
    "f([[1,2,3],[9,2,3],[6,2,1],[4,3,0]])"
   ]
  },
  {
   "cell_type": "code",
   "execution_count": 8,
   "metadata": {
    "collapsed": false
   },
   "outputs": [
    {
     "data": {
      "text/plain": [
       "array([[ 0.5       ,  1.        ,  1.5       ],\n",
       "       [ 3.        ,  0.66666667,  1.        ],\n",
       "       [ 1.5       ,  0.5       ,  0.25      ],\n",
       "       [ 0.8       ,  0.6       ,  0.        ]])"
      ]
     },
     "execution_count": 8,
     "metadata": {},
     "output_type": "execute_result"
    }
   ],
   "source": [
    "#Test about division row by row\n",
    "A = T.matrix()\n",
    "B = T.vector()\n",
    "F = th.function(inputs=[A,B],outputs = (A.T/B).T)\n",
    "\n",
    "F([[1,2,3],[9,2,3],[6,2,1],[4,3,0]],[2,3,4,5])"
   ]
  },
  {
   "cell_type": "code",
   "execution_count": 7,
   "metadata": {
    "collapsed": false
   },
   "outputs": [
    {
     "data": {
      "text/plain": [
       "array([[[ -5.,  11.,  30.,  12.,   9.],\n",
       "        [ -2.,  28.,  60.,  32.,  14.]],\n",
       "\n",
       "       [[-12.,  25.,  72.,  30.,  20.],\n",
       "        [  8.,  43.,  24.,   0.,  30.]]])"
      ]
     },
     "execution_count": 7,
     "metadata": {},
     "output_type": "execute_result"
    }
   ],
   "source": [
    "#Test about tensordot\n",
    "A = T.tensor3()\n",
    "B = T.matrix()\n",
    "c = T.tensordot(A,B,axes=[[2],[0]])\n",
    "\n",
    "F = th.function(inputs=[A,B],outputs = c)\n",
    "\n",
    "F([[[3,1,2],[4,2,6]],[[7,2,5],[3,8,1]]],[[-3,0,6,1,2],[2,5,0,-1,3],[1,3,6,5,0]])"
   ]
  },
  {
   "cell_type": "code",
   "execution_count": 6,
   "metadata": {
    "collapsed": false
   },
   "outputs": [
    {
     "data": {
      "text/plain": [
       "array([[[ 3.,  1.,  2.],\n",
       "        [ 7.,  2.,  5.],\n",
       "        [ 7.,  2.,  5.],\n",
       "        [ 7.,  2.,  5.]],\n",
       "\n",
       "       [[ 4.,  2.,  6.],\n",
       "        [ 3.,  8.,  1.],\n",
       "        [ 3.,  8.,  1.],\n",
       "        [ 3.,  8.,  1.]]])"
      ]
     },
     "execution_count": 6,
     "metadata": {},
     "output_type": "execute_result"
    }
   ],
   "source": [
    "#Test about collect all i-th rows in all matrix to form a new matrix\n",
    "A = T.tensor3()\n",
    "B = T.matrix()\n",
    "c = T.tensordot(A,B,axes=[[2],[0]])\n",
    "\n",
    "F = th.function(inputs=[A],outputs = A.dimshuffle(1,0,2))\n",
    "\n",
    "F([[[3,1,2],[4,2,6]],[[7,2,5],[3,8,1]],[[7,2,5],[3,8,1]],[[7,2,5],[3,8,1]]])"
   ]
  },
  {
   "cell_type": "code",
   "execution_count": 3,
   "metadata": {
    "collapsed": true
   },
   "outputs": [
    {
     "name": "stdout",
     "output_type": "stream",
     "text": [
      "['sil', 'sil', 'sil', 'sil', 'sil', 'sil', 'sil', 'sil', 'sil', 'hh', 'hh', 'hh', 'hh', 'hh', 'hh', 'hh', 'hh', 'hh', 'hh', 'hh', 'iy', 'iy', 'iy', 'iy', 'iy', 'uw', 'uw', 'uw', 'l', 'l', 'w', 'l', 'l', 'l', 'l', 'l', 'ih', 'ih', 'ih', 'ih', 'ih', 'ih', 'ih', 'l', 'l', 'l', 'l', 'l', 'l', 'l', 'l', 'l', 'l', 'aa', 'ah', 'ah', 'ah', 'ah', 'ow', 'ow', 'ow', 'ah', 'ah', 'l', 'l', 'l', 'l', 'l', 'l', 'l', 'l', 'l', 'l', 'l', 'ae', 'ae', 'ae', 'ae', 'ae', 'ae', 'ae', 'ae', 'aw', 'aw', 'aw', 'aw', 'aw', 'aw', 'aw', 'aw', 'aw', 'aw', 'aw', 'aw', 'aw', 'aw', 'aw', 'aw', 'aw', 'aw', 'aa', 'aa', 'aa', 'aa', 'aa', 'aa', 'aa', 'aw', 'aa', 'aw', 'aw', 'ah', 'aa', 'aa', 'aa', 'aa', 'aa', 'r', 'er', 'er', 'er', 'er', 'er', 'er', 'er', 'er', 'r', 'r', 'r', 'er', 'er', 'er', 'r', 'ey', 'ey', 'ae', 'ae', 'ae', 'eh', 'eh', 'eh', 'eh', 'eh', 'eh', 'eh', 'eh', 'eh', 'eh', 'eh', 'eh', 'er', 'r', 'er', 'er', 'er', 'er', 'er', 'er', 'l', 'l', 'l', 'l', 'l', 'l', 'l', 'l', 'l', 'l', 'aa', 'ay', 'ay', 'ay', 'ay', 'ay', 'ay', 'ay', 'ay', 'ay', 'ay', 'ay', 'ay', 'ay', 'ay', 'ay', 'ay', 'ay', 'ay', 'ay', 'ay', 'ay', 'ay', 'aw', 'aw', 'm', 'm', 'm', 'm', 'm', 'hh', 'sil', 'sil', 'sil', 'sil', 'sil', 'sil', 'sil', 'sil', 'sil', 'sil', 'sil', 'sil', 'sil', 'sil', 'sil', 'sil', 'sil', 'sil', 'sil'] fadg0_si1279\n",
      "['sil', 'sil', 'sil', 'sil', 'sil', 'sil', 'sil', 'sil', 'sil', 'hh', 'hh', 'hh', 'hh', 'hh', 'hh', 'hh', 'hh', 'hh', 'hh', 'hh', 'iy', 'iy', 'iy', 'iy', 'iy', 'uw', 'uw', 'uw', 'l', 'l', 'l', 'l', 'l', 'l', 'l', 'l', 'ih', 'ih', 'ih', 'ih', 'ih', 'ih', 'ih', 'l', 'l', 'l', 'l', 'l', 'l', 'l', 'l', 'l', 'l', 'l', 'ah', 'ah', 'ah', 'ah', 'ow', 'ow', 'ow', 'ah', 'ah', 'l', 'l', 'l', 'l', 'l', 'l', 'l', 'l', 'l', 'l', 'l', 'ae', 'ae', 'ae', 'ae', 'ae', 'ae', 'ae', 'ae', 'aw', 'aw', 'aw', 'aw', 'aw', 'aw', 'aw', 'aw', 'aw', 'aw', 'aw', 'aw', 'aw', 'aw', 'aw', 'aw', 'aw', 'aw', 'aa', 'aa', 'aa', 'aa', 'aa', 'aa', 'aa', 'aa', 'aa', 'aw', 'aw', 'aw', 'aa', 'aa', 'aa', 'aa', 'aa', 'aa', 'er', 'er', 'er', 'er', 'er', 'er', 'er', 'er', 'r', 'r', 'r', 'er', 'er', 'er', 'er', 'ey', 'ey', 'ae', 'ae', 'ae', 'eh', 'eh', 'eh', 'eh', 'eh', 'eh', 'eh', 'eh', 'eh', 'eh', 'eh', 'eh', 'eh', 'eh', 'er', 'er', 'er', 'er', 'er', 'er', 'l', 'l', 'l', 'l', 'l', 'l', 'l', 'l', 'l', 'l', 'l', 'ay', 'ay', 'ay', 'ay', 'ay', 'ay', 'ay', 'ay', 'ay', 'ay', 'ay', 'ay', 'ay', 'ay', 'ay', 'ay', 'ay', 'ay', 'ay', 'ay', 'ay', 'ay', 'aw', 'aw', 'm', 'm', 'm', 'm', 'm', 'm', 'sil', 'sil', 'sil', 'sil', 'sil', 'sil', 'sil', 'sil', 'sil', 'sil', 'sil', 'sil', 'sil', 'sil', 'sil', 'sil', 'sil', 'sil', 'sil']\n",
      "['sil', 'hh', 'iy', 'uw', 'l', 'ih', 'l', 'ah', 'ow', 'ah', 'l', 'ae', 'aw', 'aa', 'aw', 'aa', 'er', 'r', 'er', 'ey', 'ae', 'eh', 'er', 'l', 'ay', 'aw', 'm', 'sil']\n",
      "Done.\n"
     ]
    }
   ],
   "source": [
    "#Transform DNN's result suitable for counting Edit Distance\n",
    "import numpy as np\n",
    "from collections import defaultdict\n",
    "\n",
    "File = open('Predicts.csv')\n",
    "Raw = File.readlines()\n",
    "File.close()\n",
    "Raw.pop(0)\n",
    "\n",
    "Data = defaultdict(list)\n",
    "Number = {}\n",
    "\n",
    "n = 0; old = ''\n",
    "for line in Raw:\n",
    "    ID,cha = line.strip().split(',')\n",
    "    ID = '_'.join(ID.split('_')[:2])\n",
    "    Data[ID].append(cha)\n",
    "    if ID != old:\n",
    "        Number[n] = ID\n",
    "        n += 1\n",
    "        old = ID\n",
    "\n",
    "print(Data['fjmg0_sx11'], Number[0])\n",
    "def decide(value,i):\n",
    "    if value[i-1] == value[i+1]:\n",
    "        return True\n",
    "    elif value[i]!= value[i+1]:\n",
    "        return True\n",
    "    else:\n",
    "        return False\n",
    "    \n",
    "for key,value in Data.items():\n",
    "    for i in range(1,len(value)-1):\n",
    "        if decide(value,i) and value[i]!= value[i-1]:\n",
    "            value[i] = value[i-1]\n",
    "    Data[key] = value\n",
    "    \n",
    "print(Data['fjmg0_sx11'])\n",
    "\n",
    "Pre = defaultdict(list)\n",
    "for key,value in Data.items():\n",
    "    for v in value:\n",
    "        if len(Pre[key])==0 or Pre[key][-1]!= v:\n",
    "            Pre[key].append(v)\n",
    "            \n",
    "print(Pre['fjmg0_sx11'])\n",
    "\n",
    "M = open('48_idx_chr.map_b')\n",
    "mapp = M.readlines()\n",
    "M.close()\n",
    "\n",
    "Map = {}\n",
    "for line in mapp:\n",
    "    line = line.strip().split(' ')\n",
    "    word,_ = line[0].split('\\t')\n",
    "    Map[word] = line[-1]\n",
    "    \n",
    "import csv\n",
    "csvfile = open('V1.csv','w',newline='')\n",
    "write = csv.writer(csvfile, delimiter=',')\n",
    "write.writerow(['id','phone_sequence'])\n",
    "\n",
    "for i in range(len(Number)):\n",
    "    S = ''\n",
    "    for word in Pre[Number[i]]:\n",
    "        S = S + Map[word]\n",
    "    write.writerow([Number[i],S])\n",
    "    \n",
    "print(\"Done.\")"
   ]
  },
  {
   "cell_type": "code",
   "execution_count": null,
   "metadata": {
    "collapsed": true
   },
   "outputs": [],
   "source": []
  }
 ],
 "metadata": {
  "kernelspec": {
   "display_name": "Python 3",
   "language": "python",
   "name": "python3"
  },
  "language_info": {
   "codemirror_mode": {
    "name": "ipython",
    "version": 3
   },
   "file_extension": ".py",
   "mimetype": "text/x-python",
   "name": "python",
   "nbconvert_exporter": "python",
   "pygments_lexer": "ipython3",
   "version": "3.4.3"
  }
 },
 "nbformat": 4,
 "nbformat_minor": 0
}
