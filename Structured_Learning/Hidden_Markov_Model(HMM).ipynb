{
 "cells": [
  {
   "cell_type": "code",
   "execution_count": 1,
   "metadata": {
    "collapsed": false
   },
   "outputs": [
    {
     "name": "stdout",
     "output_type": "stream",
     "text": [
      "Data loaded, using 5.117316 seconds\n"
     ]
    }
   ],
   "source": [
    "import theano as th\n",
    "import theano.tensor as T\n",
    "import numpy as np\n",
    "import time\n",
    "from collections import defaultdict\n",
    "\n",
    "start_time = time.clock()\n",
    "#The map from labels to integers(To compute y_hat) \n",
    "lab_index = dict([['aa', 0], ['ae', 1], ['ah', 2], ['ao', 3], ['aw', 4], ['ax', 5], ['ay', 6], ['b', 7], ['ch', 8], \n",
    "               ['cl', 9], ['d', 10], ['dh', 11], ['dx', 12], ['eh', 13], ['el', 14], ['en', 15], ['epi', 16], \n",
    "               ['er', 17], ['ey', 18], ['f', 19], ['g', 20], ['hh', 21], ['ih', 22], ['ix', 23], ['iy', 24], \n",
    "               ['jh', 25], ['k', 26], ['l', 27], ['m', 28], ['ng', 29], ['n', 30], ['ow', 31], ['oy', 32], ['p', 33], \n",
    "               ['r', 34], ['sh', 35], ['sil', 36], ['s', 37], ['th', 38], ['t', 39], ['uh', 40], ['uw', 41], ['vcl', 42],\n",
    "               ['v', 43], ['w', 44], ['y', 45], ['zh', 46], ['z', 47]])\n",
    "\n",
    "Y = open('train.lab')\n",
    "Transition = np.zeros((48,48))\n",
    "phone_prob = np.zeros((48,))\n",
    "ID = ''; From = ''\n",
    "for line in Y:\n",
    "    line = line.strip().split(',')\n",
    "    SeqID = '_'.join(line[0].split('_')[:2])\n",
    "    To = line[1]\n",
    "    phone_prob[lab_index[To]] += 1\n",
    "    if SeqID == ID:\n",
    "        Transition[lab_index[From]][lab_index[To]] += 1\n",
    "    From = line[1]\n",
    "    ID = SeqID\n",
    "Y.close()\n",
    "phone_prob = phone_prob/np.sum(phone_prob)\n",
    "Trans_prob = (Transition.T/np.sum(Transition,axis=1)).T\n",
    "\n",
    "def make_vector_sequence(Data,TID):\n",
    "    \"\"\"Concatenate vectors into single sequence of an utterance\"\"\"\n",
    "    Dat = defaultdict(list)\n",
    "    Number = {}; n = 0; old = ''\n",
    "    for i in range(len(Data)):\n",
    "        ID = '_'.join(TID[i].split('_')[:2])\n",
    "        Dat[ID].append(Data[i])\n",
    "        if ID != old:\n",
    "            Number[n] = ID\n",
    "            n += 1\n",
    "            old = ID\n",
    "    return Dat, Number\n",
    "\n",
    "Mapp = open('48_39.map')\n",
    "mapp = Mapp.readlines()\n",
    "Mapp.close()\n",
    "\n",
    "def Map_label(n):\n",
    "    \"\"\"Return label an integer(0-47) corresponds to\"\"\"\n",
    "    for key,val in lab_index.items():\n",
    "        if val == n:\n",
    "            return key\n",
    "    print(\"Worng!\")\n",
    "\n",
    "mapping = {}\n",
    "for line in mapp:\n",
    "    line = line.strip().split('\\t')\n",
    "    mapping[line[0]] = line[1]\n",
    "\n",
    "M = open('48_idx_chr.map_b')\n",
    "mapp = M.readlines()\n",
    "M.close()\n",
    "\n",
    "Map = {}\n",
    "for line in mapp:\n",
    "    line = line.strip().split(' ')\n",
    "    word,_ = line[0].split('\\t')\n",
    "    Map[word] = line[-1]\n",
    "\n",
    "print(\"Data loaded, using %f seconds\"%(time.clock()-start_time))"
   ]
  },
  {
   "cell_type": "code",
   "execution_count": 2,
   "metadata": {
    "collapsed": false,
    "scrolled": true
   },
   "outputs": [
    {
     "name": "stdout",
     "output_type": "stream",
     "text": [
      "Start predicting...\n"
     ]
    }
   ],
   "source": [
    "print(\"Start predicting...\")\n",
    "\n",
    "Test = np.load('prob.out.npz')\n",
    "Test = Test[Test.files[0]]\n",
    "TID = np.load('TestID.npz')\n",
    "TestID = TID[TID.files[0]][0]\n",
    "\n",
    "TestD , Test_Num = make_vector_sequence(Test,TestID)"
   ]
  },
  {
   "cell_type": "code",
   "execution_count": 3,
   "metadata": {
    "collapsed": false
   },
   "outputs": [],
   "source": [
    "Seq_Pre = []\n",
    "for z in range(len(Test_Num)):\n",
    "    start = time.clock()\n",
    "    Seq = TestD[Test_Num[z]]\n",
    "    prob = np.ones((48,))/48\n",
    "    predict = defaultdict(list)\n",
    "\n",
    "    for l in Seq:\n",
    "        for k in range(3):\n",
    "            P = prob*(l/phone_prob)/9\n",
    "            for i in range(48):\n",
    "                L = P*Trans_prob.T[i]\n",
    "                predict[i].append(mapping[Map_label(np.argmax(L))])\n",
    "                prob[i] = np.max(L)\n",
    "            if max(prob) >= 10**20:\n",
    "                prob = prob/10**15\n",
    "\n",
    "    Pre = []; now = -1; count = 0\n",
    "    for n in predict[np.argmax(prob)]:\n",
    "        if n != now:\n",
    "            if count >= 9:\n",
    "                if len(Pre)==0 or Pre[-1]!=now:\n",
    "                    Pre.append(now)\n",
    "            now = n\n",
    "            count = 1\n",
    "        else:\n",
    "            count += 1\n",
    "    if count >= 3:\n",
    "        Pre.append(now)\n",
    "\n",
    "    S = ''\n",
    "    for i in Pre:\n",
    "        S = S + Map[i]\n",
    "    Seq_Pre.append(S[1:-1])\n"
   ]
  },
  {
   "cell_type": "code",
   "execution_count": 5,
   "metadata": {
    "collapsed": false,
    "scrolled": true
   },
   "outputs": [
    {
     "name": "stdout",
     "output_type": "stream",
     "text": [
      "All Done. Using 492.5317 seconds\n"
     ]
    }
   ],
   "source": [
    "import csv\n",
    "csvfile = open('XHMM1.csv','w',newline='')\n",
    "write = csv.writer(csvfile, delimiter=',')\n",
    "write.writerow(['id','phone_sequence'])\n",
    "\n",
    "for i in range(len(Test_Num)):\n",
    "    write.writerow([Test_Num[i],Seq_Pre[i]])\n",
    "    \n",
    "print(\"All Done. Using %.4f seconds\"%(time.clock()-start_time))"
   ]
  },
  {
   "cell_type": "code",
   "execution_count": null,
   "metadata": {
    "collapsed": true
   },
   "outputs": [],
   "source": []
  }
 ],
 "metadata": {
  "kernelspec": {
   "display_name": "Python 3",
   "language": "python",
   "name": "python3"
  },
  "language_info": {
   "codemirror_mode": {
    "name": "ipython",
    "version": 3
   },
   "file_extension": ".py",
   "mimetype": "text/x-python",
   "name": "python",
   "nbconvert_exporter": "python",
   "pygments_lexer": "ipython3",
   "version": "3.4.3"
  }
 },
 "nbformat": 4,
 "nbformat_minor": 0
}
